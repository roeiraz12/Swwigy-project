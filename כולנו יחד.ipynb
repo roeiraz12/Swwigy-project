{
 "cells": [
  {
   "cell_type": "markdown",
   "id": "cbe6e972-f596-42c2-97ba-53b00ce09738",
   "metadata": {},
   "source": [
    "# our project-group number 1\n",
    "# Online Food Delivery Preferences-Bangalore region\n",
    "\n",
    "**מגישים:**\n",
    "**רועי ראז**\n",
    "**מעיין אהרוני**\n",
    "  **שירה אורבך**"
   ]
  },
  {
   "cell_type": "code",
   "execution_count": null,
   "id": "37e3fb07-500f-4da3-83a8-dc9c26febc89",
   "metadata": {},
   "outputs": [],
   "source": [
    "#לייבא תמונת שער מהגיטהאב"
   ]
  },
  {
   "cell_type": "markdown",
   "id": "656121df-2850-4610-bb10-03b69358eafa",
   "metadata": {},
   "source": [
    "## :הורדת ספריות"
   ]
  },
  {
   "cell_type": "code",
   "execution_count": null,
   "id": "45f6aca2-0464-407b-90bf-ce898c5c49bf",
   "metadata": {},
   "outputs": [],
   "source": [
    "import pandas as pd\n",
    "import numpy as np\n",
    "#import matplotlib.pyplot as plt\n",
    "import seaborn as sns \n",
    "#upload the data\n",
    "!pip install pandas\n",
    "import pandas as pd\n",
    "import numpy as np\n",
    "import matplotlib.pyplot as plt  #for reshaping graph size\n",
    "import seaborn as sns  # for creating the graphs"
   ]
  },
  {
   "cell_type": "markdown",
   "id": "6d88ad78-9e22-4cb6-aacf-0c5c2cebc803",
   "metadata": {},
   "source": [
    "***קישור לקובץ דטא***"
   ]
  },
  {
   "cell_type": "markdown",
   "id": "4ce684c1-4805-4550-8bbc-b0dfdd95b78d",
   "metadata": {},
   "source": [
    "https://www.kaggle.com/datasets/benroshan/online-food-delivery-preferencesbangalore-region"
   ]
  },
  {
   "cell_type": "markdown",
   "id": "27873ee3-ed99-4a00-87c3-772c60d6b5e2",
   "metadata": {},
   "source": [
    "**נתיב דטא שלנו:**"
   ]
  },
  {
   "cell_type": "markdown",
   "id": "e075a491-ef8b-445d-8c44-fd73553aea5e",
   "metadata": {},
   "source": [
    "\"https://raw.githubusercontent.com/roeiraz12/project/main/onlinedeliverydata.csv\""
   ]
  },
  {
   "cell_type": "markdown",
   "id": "2d4fc361-d8e7-44fa-85af-6bc79ba07a47",
   "metadata": {},
   "source": [
    "**העלאת הדטא שלנו:**"
   ]
  },
  {
   "cell_type": "code",
   "execution_count": 28,
   "id": "af7b1c4c-6b52-4215-a57b-71ede1424418",
   "metadata": {},
   "outputs": [
    {
     "name": "stdout",
     "output_type": "stream",
     "text": [
      "Requirement already satisfied: pandas in c:\\users\\user\\.jupyter\\nituach\\lib\\site-packages (2.1.4)\n",
      "Requirement already satisfied: numpy<2,>=1.23.2 in c:\\users\\user\\.jupyter\\nituach\\lib\\site-packages (from pandas) (1.26.4)\n",
      "Requirement already satisfied: python-dateutil>=2.8.2 in c:\\users\\user\\.jupyter\\nituach\\lib\\site-packages (from pandas) (2.8.2)\n",
      "Requirement already satisfied: pytz>=2020.1 in c:\\users\\user\\.jupyter\\nituach\\lib\\site-packages (from pandas) (2023.3.post1)\n",
      "Requirement already satisfied: tzdata>=2022.1 in c:\\users\\user\\.jupyter\\nituach\\lib\\site-packages (from pandas) (2023.3)\n",
      "Requirement already satisfied: six>=1.5 in c:\\users\\user\\.jupyter\\nituach\\lib\\site-packages (from python-dateutil>=2.8.2->pandas) (1.16.0)\n"
     ]
    }
   ],
   "source": [
    "\n",
    "#upload the data\n",
    "!pip install pandas\n",
    "import pandas as pd\n",
    "import numpy as np\n",
    "import matplotlib.pyplot as plt  #for reshaping graph size\n",
    "import seaborn as sns  # for creating the graphs\n",
    "# Replace 'your_file.csv' with the path to your CSV file\n",
    "url=\"https://raw.githubusercontent.com/roeiraz12/project/main/onlinedeliverydata.csv\"\n",
    "\n",
    "# Read the CSV file into a pandas DataFrame\n",
    "df = pd.read_csv(url)"
   ]
  },
  {
   "cell_type": "code",
   "execution_count": 41,
   "id": "e8f7ac39-9f69-4249-8d9d-b3731699955e",
   "metadata": {},
   "outputs": [
    {
     "name": "stdout",
     "output_type": "stream",
     "text": [
      "<class 'pandas.core.frame.DataFrame'>\n",
      "RangeIndex: 388 entries, 0 to 387\n",
      "Data columns (total 55 columns):\n",
      " #   Column                                     Non-Null Count  Dtype  \n",
      "---  ------                                     --------------  -----  \n",
      " 0   Age                                        388 non-null    int64  \n",
      " 1   Gender                                     388 non-null    object \n",
      " 2   Marital Status                             388 non-null    object \n",
      " 3   Occupation                                 388 non-null    object \n",
      " 4   Monthly Income                             388 non-null    object \n",
      " 5   Educational Qualifications                 388 non-null    object \n",
      " 6   Family size                                388 non-null    int64  \n",
      " 7   latitude                                   388 non-null    float64\n",
      " 8   longitude                                  388 non-null    float64\n",
      " 9   Pin code                                   388 non-null    int64  \n",
      " 10  Medium (P1)                                388 non-null    object \n",
      " 11  Medium (P2)                                388 non-null    object \n",
      " 12  Meal(P1)                                   388 non-null    object \n",
      " 13  Meal(P2)                                   388 non-null    object \n",
      " 14  Perference(P1)                             388 non-null    object \n",
      " 15  Perference(P2)                             388 non-null    object \n",
      " 16  Ease and convenient                        388 non-null    object \n",
      " 17  Time saving                                388 non-null    object \n",
      " 18  More restaurant choices                    388 non-null    object \n",
      " 19  Easy Payment option                        388 non-null    object \n",
      " 20  More Offers and Discount                   388 non-null    object \n",
      " 21  Good Food quality                          388 non-null    object \n",
      " 22  Good Tracking system                       388 non-null    object \n",
      " 23  Self Cooking                               388 non-null    object \n",
      " 24  Health Concern                             388 non-null    object \n",
      " 25  Late Delivery                              388 non-null    object \n",
      " 26  Poor Hygiene                               388 non-null    object \n",
      " 27  Bad past experience                        388 non-null    object \n",
      " 28  Unavailability                             388 non-null    object \n",
      " 29  Unaffordable                               388 non-null    object \n",
      " 30  Long delivery time                         388 non-null    object \n",
      " 31  Delay of delivery person getting assigned  388 non-null    object \n",
      " 32  Delay of delivery person picking up food   388 non-null    object \n",
      " 33  Wrong order delivered                      388 non-null    object \n",
      " 34  Missing item                               388 non-null    object \n",
      " 35  Order placed by mistake                    388 non-null    object \n",
      " 36  Influence of time                          388 non-null    object \n",
      " 37  Order Time                                 388 non-null    object \n",
      " 38  Maximum wait time                          388 non-null    object \n",
      " 39  Residence in busy location                 388 non-null    object \n",
      " 40  Google Maps Accuracy                       388 non-null    object \n",
      " 41  Good Road Condition                        388 non-null    object \n",
      " 42  Low quantity low time                      388 non-null    object \n",
      " 43  Delivery person ability                    388 non-null    object \n",
      " 44  Influence of rating                        388 non-null    object \n",
      " 45  Less Delivery time                         388 non-null    object \n",
      " 46  High Quality of package                    388 non-null    object \n",
      " 47  Number of calls                            388 non-null    object \n",
      " 48  Politeness                                 388 non-null    object \n",
      " 49  Freshness                                  388 non-null    object \n",
      " 50  Temperature                                388 non-null    object \n",
      " 51  Good Taste                                 388 non-null    object \n",
      " 52  Good Quantity                              388 non-null    object \n",
      " 53  Output                                     388 non-null    object \n",
      " 54  Reviews                                    387 non-null    object \n",
      "dtypes: float64(2), int64(3), object(50)\n",
      "memory usage: 166.8+ KB\n",
      "None\n",
      "              Age  Family size    latitude   longitude       Pin code\n",
      "count  388.000000   388.000000  388.000000  388.000000     388.000000\n",
      "mean    24.628866     3.280928   12.972058   77.600160  560040.113402\n",
      "std      2.975593     1.351025    0.044489    0.051354      31.399609\n",
      "min     18.000000     1.000000   12.865200   77.484200  560001.000000\n",
      "25%     23.000000     2.000000   12.936900   77.565275  560010.750000\n",
      "50%     24.000000     3.000000   12.977000   77.592100  560033.500000\n",
      "75%     26.000000     4.000000   12.997025   77.630900  560068.000000\n",
      "max     33.000000     6.000000   13.102000   77.758200  560109.000000\n",
      "Age                                          0\n",
      "Gender                                       0\n",
      "Marital Status                               0\n",
      "Occupation                                   0\n",
      "Monthly Income                               0\n",
      "Educational Qualifications                   0\n",
      "Family size                                  0\n",
      "latitude                                     0\n",
      "longitude                                    0\n",
      "Pin code                                     0\n",
      "Medium (P1)                                  0\n",
      "Medium (P2)                                  0\n",
      "Meal(P1)                                     0\n",
      "Meal(P2)                                     0\n",
      "Perference(P1)                               0\n",
      "Perference(P2)                               0\n",
      "Ease and convenient                          0\n",
      "Time saving                                  0\n",
      "More restaurant choices                      0\n",
      "Easy Payment option                          0\n",
      "More Offers and Discount                     0\n",
      "Good Food quality                            0\n",
      "Good Tracking system                         0\n",
      "Self Cooking                                 0\n",
      "Health Concern                               0\n",
      "Late Delivery                                0\n",
      "Poor Hygiene                                 0\n",
      "Bad past experience                          0\n",
      "Unavailability                               0\n",
      "Unaffordable                                 0\n",
      "Long delivery time                           0\n",
      "Delay of delivery person getting assigned    0\n",
      "Delay of delivery person picking up food     0\n",
      "Wrong order delivered                        0\n",
      "Missing item                                 0\n",
      "Order placed by mistake                      0\n",
      "Influence of time                            0\n",
      "Order Time                                   0\n",
      "Maximum wait time                            0\n",
      "Residence in busy location                   0\n",
      "Google Maps Accuracy                         0\n",
      "Good Road Condition                          0\n",
      "Low quantity low time                        0\n",
      "Delivery person ability                      0\n",
      "Influence of rating                          0\n",
      "Less Delivery time                           0\n",
      "High Quality of package                      0\n",
      "Number of calls                              0\n",
      "Politeness                                   0\n",
      "Freshness                                    0\n",
      "Temperature                                  0\n",
      "Good Taste                                   0\n",
      "Good Quantity                                0\n",
      "Output                                       0\n",
      "Reviews                                      1\n",
      "dtype: int64\n",
      "   Age  Gender Marital Status Occupation  Monthly Income  \\\n",
      "0   20  Female         Single    Student       No Income   \n",
      "1   24  Female         Single    Student  Below Rs.10000   \n",
      "2   22    Male         Single    Student  Below Rs.10000   \n",
      "3   22  Female         Single    Student       No Income   \n",
      "4   22    Male         Single    Student  Below Rs.10000   \n",
      "\n",
      "  Educational Qualifications  Family size  latitude  longitude  Pin code  ...  \\\n",
      "0              Post Graduate            4   12.9766    77.5993    560001  ...   \n",
      "1                   Graduate            3   12.9770    77.5773    560009  ...   \n",
      "2              Post Graduate            3   12.9551    77.6593    560017  ...   \n",
      "3                   Graduate            6   12.9473    77.5616    560019  ...   \n",
      "4              Post Graduate            4   12.9850    77.5533    560010  ...   \n",
      "\n",
      "     Less Delivery time High Quality of package       Number of calls  \\\n",
      "0  Moderately Important    Moderately Important  Moderately Important   \n",
      "1        Very Important          Very Important        Very Important   \n",
      "2             Important          Very Important  Moderately Important   \n",
      "3        Very Important               Important  Moderately Important   \n",
      "4             Important               Important  Moderately Important   \n",
      "\n",
      "             Politeness            Freshness            Temperature  \\\n",
      "0  Moderately Important  Moderately Important  Moderately Important   \n",
      "1        Very Important        Very Important        Very Important   \n",
      "2        Very Important        Very Important             Important   \n",
      "3        Very Important        Very Important        Very Important   \n",
      "4             Important             Important             Important   \n",
      "\n",
      "            Good Taste          Good Quantity Output  \\\n",
      "0  Moderately Important  Moderately Important    Yes   \n",
      "1        Very Important        Very Important    Yes   \n",
      "2        Very Important  Moderately Important    Yes   \n",
      "3        Very Important             Important    Yes   \n",
      "4        Very Important        Very Important    Yes   \n",
      "\n",
      "                                             Reviews  \n",
      "0                                              Nil\\n  \n",
      "1                                                Nil  \n",
      "2  Many a times payment gateways are an issue, so...  \n",
      "3                                                nil  \n",
      "4                                                NIL  \n",
      "\n",
      "[5 rows x 55 columns]\n"
     ]
    }
   ],
   "source": [
    "import pandas as pd\n",
    "import requests\n",
    "from io import StringIO\n",
    "\n",
    "# הגדרת כתובת ה-URL לקובץ CSV\n",
    "csv_file_url = \"https://raw.githubusercontent.com/roeiraz12/project/main/onlinedeliverydata.csv\"\n",
    "\n",
    "# בקשת הקובץ CSV מה-URL\n",
    "response = requests.get(csv_file_url)\n",
    "\n",
    "# בדיקה אם הבקשה הצליחה\n",
    "if response.status_code == 200:\n",
    "    # קריאת הנתונים כקובץ CSV למסגרת הנתונים\n",
    "    df = pd.read_csv(StringIO(response.text))\n",
    "    \n",
    "    # הצגת מידע בסיסי על המסגרת\n",
    "    print(df.info())\n",
    "\n",
    "    # הצגת סטטיסטיקות בסיסיות על המסגרת\n",
    "    print(df.describe())\n",
    "\n",
    "    # בדיקת ערכים חסרים\n",
    "    print(df.isnull().sum())\n",
    "\n",
    "    # הצגת השורות הראשונות של המסגרת\n",
    "    print(df.head())\n",
    "\n",
    "else:\n",
    "    print(f\"Failed to retrieve the CSV file. Status code: {response.status_code}\")\n",
    "\n",
    "\n"
   ]
  },
  {
   "cell_type": "markdown",
   "id": "32f450b6-e11e-479f-86e9-31a850073e74",
   "metadata": {},
   "source": [
    "## **פתיחה-ניתוח הנתונים ע\"י מתודות שנלמדו בכיתה-שלב בסיס:**"
   ]
  },
  {
   "cell_type": "markdown",
   "id": "d287a07f-adae-44a3-99f1-150359d2d6ee",
   "metadata": {},
   "source": [
    "**נלמד על העמודות שלנו בדטא**\n"
   ]
  },
  {
   "cell_type": "code",
   "execution_count": 49,
   "id": "cf951e1c-c1e9-4b27-a913-f3e5bac433a8",
   "metadata": {},
   "outputs": [
    {
     "data": {
      "text/plain": [
       "Index(['Age', 'Gender', 'Marital Status', 'Occupation', 'Monthly Income',\n",
       "       'Educational Qualifications', 'Family size', 'latitude', 'longitude',\n",
       "       'Pin code', 'Medium (P1)', 'Medium (P2)', 'Meal(P1)', 'Meal(P2)',\n",
       "       'Perference(P1)', 'Perference(P2)', 'Ease and convenient',\n",
       "       'Time saving', 'More restaurant choices', 'Easy Payment option',\n",
       "       'More Offers and Discount', 'Good Food quality', 'Good Tracking system',\n",
       "       'Self Cooking', 'Health Concern', 'Late Delivery', 'Poor Hygiene',\n",
       "       'Bad past experience', 'Unavailability', 'Unaffordable',\n",
       "       'Long delivery time', 'Delay of delivery person getting assigned',\n",
       "       'Delay of delivery person picking up food', 'Wrong order delivered',\n",
       "       'Missing item', 'Order placed by mistake', 'Influence of time',\n",
       "       'Order Time', 'Maximum wait time', 'Residence in busy location',\n",
       "       'Google Maps Accuracy', 'Good Road Condition', 'Low quantity low time',\n",
       "       'Delivery person ability', 'Influence of rating', 'Less Delivery time',\n",
       "       'High Quality of package', 'Number of calls', 'Politeness',\n",
       "       'Freshness ', 'Temperature', 'Good Taste ', 'Good Quantity', 'Output',\n",
       "       'Reviews'],\n",
       "      dtype='object')"
      ]
     },
     "execution_count": 49,
     "metadata": {},
     "output_type": "execute_result"
    }
   ],
   "source": [
    "df.columns"
   ]
  },
  {
   "cell_type": "markdown",
   "id": "cc2226af-b3f8-45c1-b647-4fa49ed97d92",
   "metadata": {},
   "source": [
    "**נלמד על מידע מיוחד בדטא**"
   ]
  },
  {
   "cell_type": "code",
   "execution_count": 56,
   "id": "302844ba-bbe9-4148-bc9f-b175edaa8f47",
   "metadata": {},
   "outputs": [
    {
     "data": {
      "text/plain": [
       "array([' Bakery items (snacks)',\n",
       "       ' Veg foods (Breakfast / Lunch / Dinner)',\n",
       "       ' Ice cream / Cool drinks', ' Sweets'], dtype=object)"
      ]
     },
     "execution_count": 56,
     "metadata": {},
     "output_type": "execute_result"
    }
   ],
   "source": [
    "df['Perference(P2)'].unique()"
   ]
  },
  {
   "cell_type": "markdown",
   "id": "968f4c67-a991-4e74-90c1-74a52ef34206",
   "metadata": {},
   "source": [
    "**גודל הדטא:***"
   ]
  },
  {
   "cell_type": "code",
   "execution_count": 59,
   "id": "57c57351-c631-4992-83af-c74b5cbb9c86",
   "metadata": {},
   "outputs": [
    {
     "data": {
      "text/plain": [
       "(388, 55)"
      ]
     },
     "execution_count": 59,
     "metadata": {},
     "output_type": "execute_result"
    }
   ],
   "source": [
    "df.shape"
   ]
  },
  {
   "cell_type": "markdown",
   "id": "f11af454-b823-48fe-be0e-38d91f31a933",
   "metadata": {},
   "source": [
    "**הבנת קטגוריות וערכים בדטא:**"
   ]
  },
  {
   "cell_type": "code",
   "execution_count": 63,
   "id": "7c2d47e0-0c69-43f3-9c46-36c1558ccfb6",
   "metadata": {},
   "outputs": [
    {
     "data": {
      "image/png": "[encoded data removed]",
      "text/plain": [
       "<Figure size 1200x1400 with 20 Axes>"
      ]
     },
     "metadata": {},
     "output_type": "display_data"
    }
   ],
   "source": [
    "df_to_plot = df\n",
    "df_to_plot.plot(subplots=True, layout=(5,4), kind='box', figsize=(12,14), patch_artist=True)\n",
    "plt.subplots_adjust(wspace=0.5)"
   ]
  },
  {
   "cell_type": "markdown",
   "id": "1c338d7e-2e31-4d82-99aa-fec23cd387e3",
   "metadata": {},
   "source": [
    "**למידה על ספירת ערכים:**"
   ]
  },
  {
   "cell_type": "code",
   "execution_count": 67,
   "id": "db727b3b-226d-435a-bbc5-ea9b802065e7",
   "metadata": {},
   "outputs": [
    {
     "data": {
      "text/plain": [
       "Output\n",
       "Yes    301\n",
       "No      87\n",
       "Name: count, dtype: int64"
      ]
     },
     "execution_count": 67,
     "metadata": {},
     "output_type": "execute_result"
    }
   ],
   "source": [
    "pd.Series(df['Output']).value_counts()"
   ]
  },
  {
   "cell_type": "markdown",
   "id": "7b505d3e-65f4-43a6-9da9-2e854ee44ade",
   "metadata": {},
   "source": [
    "**סיכום דטא כללי:**"
   ]
  },
  {
   "cell_type": "code",
   "execution_count": 70,
   "id": "86e3761b-ff81-49d2-b773-825c66531d54",
   "metadata": {},
   "outputs": [
    {
     "data": {
      "text/plain": [
       "Age                                          0\n",
       "Gender                                       0\n",
       "Marital Status                               0\n",
       "Occupation                                   0\n",
       "Monthly Income                               0\n",
       "Educational Qualifications                   0\n",
       "Family size                                  0\n",
       "latitude                                     0\n",
       "longitude                                    0\n",
       "Pin code                                     0\n",
       "Medium (P1)                                  0\n",
       "Medium (P2)                                  0\n",
       "Meal(P1)                                     0\n",
       "Meal(P2)                                     0\n",
       "Perference(P1)                               0\n",
       "Perference(P2)                               0\n",
       "Ease and convenient                          0\n",
       "Time saving                                  0\n",
       "More restaurant choices                      0\n",
       "Easy Payment option                          0\n",
       "More Offers and Discount                     0\n",
       "Good Food quality                            0\n",
       "Good Tracking system                         0\n",
       "Self Cooking                                 0\n",
       "Health Concern                               0\n",
       "Late Delivery                                0\n",
       "Poor Hygiene                                 0\n",
       "Bad past experience                          0\n",
       "Unavailability                               0\n",
       "Unaffordable                                 0\n",
       "Long delivery time                           0\n",
       "Delay of delivery person getting assigned    0\n",
       "Delay of delivery person picking up food     0\n",
       "Wrong order delivered                        0\n",
       "Missing item                                 0\n",
       "Order placed by mistake                      0\n",
       "Influence of time                            0\n",
       "Order Time                                   0\n",
       "Maximum wait time                            0\n",
       "Residence in busy location                   0\n",
       "Google Maps Accuracy                         0\n",
       "Good Road Condition                          0\n",
       "Low quantity low time                        0\n",
       "Delivery person ability                      0\n",
       "Influence of rating                          0\n",
       "Less Delivery time                           0\n",
       "High Quality of package                      0\n",
       "Number of calls                              0\n",
       "Politeness                                   0\n",
       "Freshness                                    0\n",
       "Temperature                                  0\n",
       "Good Taste                                   0\n",
       "Good Quantity                                0\n",
       "Output                                       0\n",
       "Reviews                                      1\n",
       "dtype: int64"
      ]
     },
     "execution_count": 70,
     "metadata": {},
     "output_type": "execute_result"
    }
   ],
   "source": [
    "df.isna().sum()"
   ]
  },
  {
   "cell_type": "markdown",
   "id": "b6e21450-82ec-4de3-8e6d-b79a4056e0d8",
   "metadata": {},
   "source": [
    "**הכנה לקורלציה:**"
   ]
  },
  {
   "cell_type": "code",
   "execution_count": 75,
   "id": "33cea4c8-6baa-46d0-95b5-d7f81cd41f2d",
   "metadata": {},
   "outputs": [
    {
     "name": "stdout",
     "output_type": "stream",
     "text": [
      "          Column1   Column2   Column3\n",
      "Column1  1.000000  1.000000  0.138675\n",
      "Column2  1.000000  1.000000  0.138675\n",
      "Column3  0.138675  0.138675  1.000000\n"
     ]
    }
   ],
   "source": [
    "#import pandas as pd\n",
    "\n",
    "# Example DataFrame (replace with your actual data)\n",
    "data = {\n",
    "    'Column1': [1, 2, 3, 4, 5],\n",
    "    'Column2': [3, 4, 5, 6, 7],\n",
    "    'Column3': [2, 3, 1, 4, 2],\n",
    "    'Output': ['Yes', 'No', 'Yes', 'No', 'Yes']\n",
    "}\n",
    "df = pd.DataFrame(data)\n",
    "\n",
    "# Drop non-numeric columns or select numeric columns for correlation\n",
    "numeric_columns = df.select_dtypes(include=['int', 'float']).columns\n",
    "numeric_df = df[numeric_columns]\n",
    "\n",
    "# Compute correlation matrix\n",
    "corr_df = numeric_df.corr(method='pearson')\n",
    "\n",
    "# Display correlation matrix\n",
    "print(corr_df)"
   ]
  },
  {
   "cell_type": "markdown",
   "id": "2b8e0c55-064c-4c84-b502-76bda65a1a04",
   "metadata": {},
   "source": [
    "**לקורלציה:**"
   ]
  },
  {
   "cell_type": "code",
   "execution_count": 78,
   "id": "27300ce8-cc9c-4a3d-b965-b19bc4a84f87",
   "metadata": {},
   "outputs": [
    {
     "data": {
      "text/html": [
       "<style type=\"text/css\">\n",
       "#T_a8ad8_row0_col0, #T_a8ad8_row0_col1, #T_a8ad8_row1_col0, #T_a8ad8_row1_col1, #T_a8ad8_row2_col2 {\n",
       "  background-color: #b40426;\n",
       "  color: #f1f1f1;\n",
       "}\n",
       "#T_a8ad8_row0_col2, #T_a8ad8_row1_col2, #T_a8ad8_row2_col0, #T_a8ad8_row2_col1 {\n",
       "  background-color: #3b4cc0;\n",
       "  color: #f1f1f1;\n",
       "}\n",
       "</style>\n",
       "<table id=\"T_a8ad8\">\n",
       "  <thead>\n",
       "    <tr>\n",
       "      <th class=\"blank level0\" >&nbsp;</th>\n",
       "      <th id=\"T_a8ad8_level0_col0\" class=\"col_heading level0 col0\" >Column1</th>\n",
       "      <th id=\"T_a8ad8_level0_col1\" class=\"col_heading level0 col1\" >Column2</th>\n",
       "      <th id=\"T_a8ad8_level0_col2\" class=\"col_heading level0 col2\" >Column3</th>\n",
       "    </tr>\n",
       "  </thead>\n",
       "  <tbody>\n",
       "    <tr>\n",
       "      <th id=\"T_a8ad8_level0_row0\" class=\"row_heading level0 row0\" >Column1</th>\n",
       "      <td id=\"T_a8ad8_row0_col0\" class=\"data row0 col0\" >1.000000</td>\n",
       "      <td id=\"T_a8ad8_row0_col1\" class=\"data row0 col1\" >1.000000</td>\n",
       "      <td id=\"T_a8ad8_row0_col2\" class=\"data row0 col2\" >0.138675</td>\n",
       "    </tr>\n",
       "    <tr>\n",
       "      <th id=\"T_a8ad8_level0_row1\" class=\"row_heading level0 row1\" >Column2</th>\n",
       "      <td id=\"T_a8ad8_row1_col0\" class=\"data row1 col0\" >1.000000</td>\n",
       "      <td id=\"T_a8ad8_row1_col1\" class=\"data row1 col1\" >1.000000</td>\n",
       "      <td id=\"T_a8ad8_row1_col2\" class=\"data row1 col2\" >0.138675</td>\n",
       "    </tr>\n",
       "    <tr>\n",
       "      <th id=\"T_a8ad8_level0_row2\" class=\"row_heading level0 row2\" >Column3</th>\n",
       "      <td id=\"T_a8ad8_row2_col0\" class=\"data row2 col0\" >0.138675</td>\n",
       "      <td id=\"T_a8ad8_row2_col1\" class=\"data row2 col1\" >0.138675</td>\n",
       "      <td id=\"T_a8ad8_row2_col2\" class=\"data row2 col2\" >1.000000</td>\n",
       "    </tr>\n",
       "  </tbody>\n",
       "</table>\n"
      ],
      "text/plain": [
       "<pandas.io.formats.style.Styler at 0x21a3d851310>"
      ]
     },
     "execution_count": 78,
     "metadata": {},
     "output_type": "execute_result"
    }
   ],
   "source": [
    "#import pandas as pd\n",
    "\n",
    "# Example DataFrame (replace with your actual data)\n",
    "data = {\n",
    "    'Column1': [1, 2, 3, 4, 5],\n",
    "    'Column2': [3, 4, 5, 6, 7],\n",
    "    'Column3': [2, 3, 1, 4, 2],\n",
    "}\n",
    "df = pd.DataFrame(data)\n",
    "\n",
    "# Compute correlation matrix\n",
    "corr_df = df.corr(method='pearson')\n",
    "\n",
    "# Display correlation matrix with color gradient\n",
    "corr_styled = corr_df.style.background_gradient(cmap='coolwarm')\n",
    "corr_styled"
   ]
  },
  {
   "cell_type": "markdown",
   "id": "72d55b9b-c5fa-48a1-a5d9-742e93c05dfe",
   "metadata": {},
   "source": [
    "**מציאת ערכים מקסימלים:**"
   ]
  },
  {
   "cell_type": "code",
   "execution_count": 83,
   "id": "ebc29154-8ee2-41c6-a350-01566dd9e8b3",
   "metadata": {},
   "outputs": [
    {
     "name": "stdout",
     "output_type": "stream",
     "text": [
      "Column1    5\n",
      "Column2    7\n",
      "Column3    4\n",
      "dtype: int64\n"
     ]
    }
   ],
   "source": [
    "print(df.max())"
   ]
  },
  {
   "cell_type": "markdown",
   "id": "4cffcd0a-d98d-40c6-9b4a-a3d59bc0b78c",
   "metadata": {},
   "source": [
    "**המתודה הד להבנת העמודות:**"
   ]
  },
  {
   "cell_type": "code",
   "execution_count": 85,
   "id": "c80a393f-ef07-4f55-98a1-2d2922701b4c",
   "metadata": {},
   "outputs": [
    {
     "data": {
      "text/html": [
       "<div>\n",
       "<style scoped>\n",
       "    .dataframe tbody tr th:only-of-type {\n",
       "        vertical-align: middle;\n",
       "    }\n",
       "\n",
       "    .dataframe tbody tr th {\n",
       "        vertical-align: top;\n",
       "    }\n",
       "\n",
       "    .dataframe thead th {\n",
       "        text-align: right;\n",
       "    }\n",
       "</style>\n",
       "<table border=\"1\" class=\"dataframe\">\n",
       "  <thead>\n",
       "    <tr style=\"text-align: right;\">\n",
       "      <th></th>\n",
       "      <th>Column1</th>\n",
       "      <th>Column2</th>\n",
       "      <th>Column3</th>\n",
       "    </tr>\n",
       "  </thead>\n",
       "  <tbody>\n",
       "    <tr>\n",
       "      <th>0</th>\n",
       "      <td>1</td>\n",
       "      <td>3</td>\n",
       "      <td>2</td>\n",
       "    </tr>\n",
       "    <tr>\n",
       "      <th>1</th>\n",
       "      <td>2</td>\n",
       "      <td>4</td>\n",
       "      <td>3</td>\n",
       "    </tr>\n",
       "    <tr>\n",
       "      <th>2</th>\n",
       "      <td>3</td>\n",
       "      <td>5</td>\n",
       "      <td>1</td>\n",
       "    </tr>\n",
       "    <tr>\n",
       "      <th>3</th>\n",
       "      <td>4</td>\n",
       "      <td>6</td>\n",
       "      <td>4</td>\n",
       "    </tr>\n",
       "    <tr>\n",
       "      <th>4</th>\n",
       "      <td>5</td>\n",
       "      <td>7</td>\n",
       "      <td>2</td>\n",
       "    </tr>\n",
       "  </tbody>\n",
       "</table>\n",
       "</div>"
      ],
      "text/plain": [
       "   Column1  Column2  Column3\n",
       "0        1        3        2\n",
       "1        2        4        3\n",
       "2        3        5        1\n",
       "3        4        6        4\n",
       "4        5        7        2"
      ]
     },
     "execution_count": 85,
     "metadata": {},
     "output_type": "execute_result"
    }
   ],
   "source": [
    "df.head()"
   ]
  },
  {
   "cell_type": "markdown",
   "id": "b7752ddb-5b41-4b0b-8bc7-424ea5d8317a",
   "metadata": {},
   "source": [
    "**המתודה טאייל להבנת העמודות:**"
   ]
  },
  {
   "cell_type": "code",
   "execution_count": 89,
   "id": "96b982a8-ab7e-43f5-8ebf-cd6337a5fe52",
   "metadata": {},
   "outputs": [
    {
     "data": {
      "text/html": [
       "<div>\n",
       "<style scoped>\n",
       "    .dataframe tbody tr th:only-of-type {\n",
       "        vertical-align: middle;\n",
       "    }\n",
       "\n",
       "    .dataframe tbody tr th {\n",
       "        vertical-align: top;\n",
       "    }\n",
       "\n",
       "    .dataframe thead th {\n",
       "        text-align: right;\n",
       "    }\n",
       "</style>\n",
       "<table border=\"1\" class=\"dataframe\">\n",
       "  <thead>\n",
       "    <tr style=\"text-align: right;\">\n",
       "      <th></th>\n",
       "      <th>Column1</th>\n",
       "      <th>Column2</th>\n",
       "      <th>Column3</th>\n",
       "    </tr>\n",
       "  </thead>\n",
       "  <tbody>\n",
       "    <tr>\n",
       "      <th>0</th>\n",
       "      <td>1</td>\n",
       "      <td>3</td>\n",
       "      <td>2</td>\n",
       "    </tr>\n",
       "    <tr>\n",
       "      <th>1</th>\n",
       "      <td>2</td>\n",
       "      <td>4</td>\n",
       "      <td>3</td>\n",
       "    </tr>\n",
       "    <tr>\n",
       "      <th>2</th>\n",
       "      <td>3</td>\n",
       "      <td>5</td>\n",
       "      <td>1</td>\n",
       "    </tr>\n",
       "    <tr>\n",
       "      <th>3</th>\n",
       "      <td>4</td>\n",
       "      <td>6</td>\n",
       "      <td>4</td>\n",
       "    </tr>\n",
       "    <tr>\n",
       "      <th>4</th>\n",
       "      <td>5</td>\n",
       "      <td>7</td>\n",
       "      <td>2</td>\n",
       "    </tr>\n",
       "  </tbody>\n",
       "</table>\n",
       "</div>"
      ],
      "text/plain": [
       "   Column1  Column2  Column3\n",
       "0        1        3        2\n",
       "1        2        4        3\n",
       "2        3        5        1\n",
       "3        4        6        4\n",
       "4        5        7        2"
      ]
     },
     "execution_count": 89,
     "metadata": {},
     "output_type": "execute_result"
    }
   ],
   "source": [
    "df.tail()"
   ]
  },
  {
   "cell_type": "markdown",
   "id": "fad9149a-2e6e-489a-8905-c6fe6c872d49",
   "metadata": {},
   "source": [
    "**המתודה דטייפ:**"
   ]
  },
  {
   "cell_type": "code",
   "execution_count": 92,
   "id": "c4550a16-347d-43c9-9b60-587925945039",
   "metadata": {},
   "outputs": [
    {
     "data": {
      "text/plain": [
       "Column1    int64\n",
       "Column2    int64\n",
       "Column3    int64\n",
       "dtype: object"
      ]
     },
     "execution_count": 92,
     "metadata": {},
     "output_type": "execute_result"
    }
   ],
   "source": [
    "df.dtypes"
   ]
  },
  {
   "cell_type": "markdown",
   "id": "1bb3d646-4c5d-4cae-b5e2-d907af016aec",
   "metadata": {},
   "source": [
    "**המתודה סאם:**"
   ]
  },
  {
   "cell_type": "code",
   "execution_count": 95,
   "id": "3b36f1f6-b694-4ac1-9941-f0e9952e2731",
   "metadata": {},
   "outputs": [
    {
     "data": {
      "text/plain": [
       "Column1    0\n",
       "Column2    0\n",
       "Column3    0\n",
       "dtype: int64"
      ]
     },
     "execution_count": 95,
     "metadata": {},
     "output_type": "execute_result"
    }
   ],
   "source": [
    "df.isnull().sum()"
   ]
  },
  {
   "cell_type": "markdown",
   "id": "075334f4-5845-4b4b-97cf-be2125c975ac",
   "metadata": {},
   "source": [
    "**המתודה דיסקרייב:**"
   ]
  },
  {
   "cell_type": "code",
   "execution_count": 98,
   "id": "c47246bc-d8fb-4f86-a211-06bbe8f46998",
   "metadata": {},
   "outputs": [
    {
     "data": {
      "text/html": [
       "<div>\n",
       "<style scoped>\n",
       "    .dataframe tbody tr th:only-of-type {\n",
       "        vertical-align: middle;\n",
       "    }\n",
       "\n",
       "    .dataframe tbody tr th {\n",
       "        vertical-align: top;\n",
       "    }\n",
       "\n",
       "    .dataframe thead th {\n",
       "        text-align: right;\n",
       "    }\n",
       "</style>\n",
       "<table border=\"1\" class=\"dataframe\">\n",
       "  <thead>\n",
       "    <tr style=\"text-align: right;\">\n",
       "      <th></th>\n",
       "      <th>Column1</th>\n",
       "      <th>Column2</th>\n",
       "      <th>Column3</th>\n",
       "    </tr>\n",
       "  </thead>\n",
       "  <tbody>\n",
       "    <tr>\n",
       "      <th>count</th>\n",
       "      <td>5.000000</td>\n",
       "      <td>5.000000</td>\n",
       "      <td>5.000000</td>\n",
       "    </tr>\n",
       "    <tr>\n",
       "      <th>mean</th>\n",
       "      <td>3.000000</td>\n",
       "      <td>5.000000</td>\n",
       "      <td>2.400000</td>\n",
       "    </tr>\n",
       "    <tr>\n",
       "      <th>std</th>\n",
       "      <td>1.581139</td>\n",
       "      <td>1.581139</td>\n",
       "      <td>1.140175</td>\n",
       "    </tr>\n",
       "    <tr>\n",
       "      <th>min</th>\n",
       "      <td>1.000000</td>\n",
       "      <td>3.000000</td>\n",
       "      <td>1.000000</td>\n",
       "    </tr>\n",
       "    <tr>\n",
       "      <th>25%</th>\n",
       "      <td>2.000000</td>\n",
       "      <td>4.000000</td>\n",
       "      <td>2.000000</td>\n",
       "    </tr>\n",
       "    <tr>\n",
       "      <th>50%</th>\n",
       "      <td>3.000000</td>\n",
       "      <td>5.000000</td>\n",
       "      <td>2.000000</td>\n",
       "    </tr>\n",
       "    <tr>\n",
       "      <th>75%</th>\n",
       "      <td>4.000000</td>\n",
       "      <td>6.000000</td>\n",
       "      <td>3.000000</td>\n",
       "    </tr>\n",
       "    <tr>\n",
       "      <th>max</th>\n",
       "      <td>5.000000</td>\n",
       "      <td>7.000000</td>\n",
       "      <td>4.000000</td>\n",
       "    </tr>\n",
       "  </tbody>\n",
       "</table>\n",
       "</div>"
      ],
      "text/plain": [
       "        Column1   Column2   Column3\n",
       "count  5.000000  5.000000  5.000000\n",
       "mean   3.000000  5.000000  2.400000\n",
       "std    1.581139  1.581139  1.140175\n",
       "min    1.000000  3.000000  1.000000\n",
       "25%    2.000000  4.000000  2.000000\n",
       "50%    3.000000  5.000000  2.000000\n",
       "75%    4.000000  6.000000  3.000000\n",
       "max    5.000000  7.000000  4.000000"
      ]
     },
     "execution_count": 98,
     "metadata": {},
     "output_type": "execute_result"
    }
   ],
   "source": [
    "df.describe()"
   ]
  },
  {
   "cell_type": "markdown",
   "id": "64f344fd-91d0-4604-9516-544eeaa9a089",
   "metadata": {},
   "source": [
    "**מידע על הדטא סוגים:**"
   ]
  },
  {
   "cell_type": "code",
   "execution_count": 103,
   "id": "349cc9e6-a7ce-43aa-9ff8-0be21e490ad8",
   "metadata": {},
   "outputs": [
    {
     "name": "stdout",
     "output_type": "stream",
     "text": [
      "<class 'pandas.core.frame.DataFrame'>\n",
      "RangeIndex: 5 entries, 0 to 4\n",
      "Data columns (total 3 columns):\n",
      " #   Column   Non-Null Count  Dtype\n",
      "---  ------   --------------  -----\n",
      " 0   Column1  5 non-null      int64\n",
      " 1   Column2  5 non-null      int64\n",
      " 2   Column3  5 non-null      int64\n",
      "dtypes: int64(3)\n",
      "memory usage: 252.0 bytes\n"
     ]
    },
    {
     "data": {
      "text/plain": [
       "Index(['Column1', 'Column2', 'Column3'], dtype='object')"
      ]
     },
     "execution_count": 103,
     "metadata": {},
     "output_type": "execute_result"
    }
   ],
   "source": [
    "df.info()\n",
    "df.columns "
   ]
  },
  {
   "cell_type": "markdown",
   "id": "9589f544-3ae9-4ba7-afe3-a5fefcc75e47",
   "metadata": {},
   "source": [
    "**לאחר ניתוח ראשוני של הנתונים נתחיל בסקירה וחקר מעמיק יותר:**"
   ]
  },
  {
   "cell_type": "markdown",
   "id": "29bd0573-93d8-4e6c-ac6c-0c816002bdbb",
   "metadata": {},
   "source": [
    "# נושא ראשון לחקירה- רועי 1\n",
    "**דירוג יורד ככל שהגיל עולה**"
   ]
  },
  {
   "cell_type": "code",
   "execution_count": null,
   "id": "489f6a9d-9f4c-421c-9646-f98a1a32f8f7",
   "metadata": {},
   "outputs": [],
   "source": []
  },
  {
   "cell_type": "code",
   "execution_count": null,
   "id": "648ef4a7-3ba5-47d9-834b-478ccd2a9a4c",
   "metadata": {},
   "outputs": [],
   "source": []
  },
  {
   "cell_type": "code",
   "execution_count": null,
   "id": "5287c275-af11-494e-b2e5-e31127612c36",
   "metadata": {},
   "outputs": [],
   "source": []
  },
  {
   "cell_type": "code",
   "execution_count": null,
   "id": "3a848d34-7a13-4ea8-9866-9bbcc5822cb3",
   "metadata": {},
   "outputs": [],
   "source": []
  },
  {
   "cell_type": "markdown",
   "id": "6e414bff-3054-4586-9639-a5390e9a0b5a",
   "metadata": {},
   "source": [
    "# **מסקנות ותובנות נושא 1:**"
   ]
  },
  {
   "cell_type": "markdown",
   "id": "04c2f6bb-35cd-4cdd-8099-064603362fd3",
   "metadata": {},
   "source": [
    "# נושא שני לחקירה- מעיין 1\n",
    "**כמות גבוהה של הזמנת נשנושים על פני  אוכל מזין**"
   ]
  },
  {
   "cell_type": "code",
   "execution_count": null,
   "id": "4f9ab0b1-4cc6-4548-a2ff-89f036a544eb",
   "metadata": {},
   "outputs": [],
   "source": []
  },
  {
   "cell_type": "code",
   "execution_count": null,
   "id": "4ab801ee-e86b-4f71-abcd-e9642f84debc",
   "metadata": {},
   "outputs": [],
   "source": []
  },
  {
   "cell_type": "markdown",
   "id": "34a64340-4faa-431a-b312-1fbca88770f2",
   "metadata": {},
   "source": [
    "# **מסקנות ותובנות נושא 2:**"
   ]
  },
  {
   "cell_type": "code",
   "execution_count": null,
   "id": "cf0e0da0-2f31-4b47-96dd-1307d5bba9ed",
   "metadata": {},
   "outputs": [],
   "source": []
  },
  {
   "cell_type": "code",
   "execution_count": null,
   "id": "e995f3ef-ac94-4549-b8f0-6fbf8294a801",
   "metadata": {},
   "outputs": [],
   "source": []
  },
  {
   "cell_type": "markdown",
   "id": "3023416d-93e7-43bb-a58f-11495b2b1aee",
   "metadata": {},
   "source": [
    "# נושא שלישי לחקירה- שירה 1\n",
    "**כיצד שביעות הרצון של הלקוחות מושפעת מחווית הלקוח**"
   ]
  },
  {
   "cell_type": "code",
   "execution_count": null,
   "id": "a6be1725-4365-44a2-bc27-1d1ef052070f",
   "metadata": {},
   "outputs": [],
   "source": []
  },
  {
   "cell_type": "code",
   "execution_count": null,
   "id": "fe4c13c1-9707-40fa-b313-d88496729fdc",
   "metadata": {},
   "outputs": [],
   "source": []
  },
  {
   "cell_type": "markdown",
   "id": "f0b203a8-f956-4138-bc3f-cc2d92e6b5f8",
   "metadata": {},
   "source": [
    "# **מסקנות ותובנות נושא 3:**"
   ]
  },
  {
   "cell_type": "code",
   "execution_count": null,
   "id": "17f79093-b172-46fc-a9fb-a9f78520dc6d",
   "metadata": {},
   "outputs": [],
   "source": []
  },
  {
   "cell_type": "code",
   "execution_count": null,
   "id": "3fe843ab-ae30-416d-9c3b-14dae1f91ec7",
   "metadata": {},
   "outputs": [],
   "source": []
  },
  {
   "cell_type": "markdown",
   "id": "92f706bf-382d-4448-bec4-dff60c9331db",
   "metadata": {},
   "source": [
    "# נושא רביעי לחקירה:\n"
   ]
  },
  {
   "cell_type": "code",
   "execution_count": null,
   "id": "424c5e0e-a756-48cf-a5cf-11d5365626ac",
   "metadata": {},
   "outputs": [],
   "source": []
  },
  {
   "cell_type": "code",
   "execution_count": null,
   "id": "cd3c6f9a-5ad5-4468-aa82-26d7abf2cd63",
   "metadata": {},
   "outputs": [],
   "source": []
  },
  {
   "cell_type": "markdown",
   "id": "a02aa049-366b-48ae-b258-f7e69b6adcc6",
   "metadata": {},
   "source": [
    "# **מסקנות ותובנות נושא 4:**"
   ]
  },
  {
   "cell_type": "code",
   "execution_count": null,
   "id": "96fe76c2-fc03-491a-b3cb-6fd5ad6eb86d",
   "metadata": {},
   "outputs": [],
   "source": []
  },
  {
   "cell_type": "code",
   "execution_count": null,
   "id": "991f33d1-a38c-43a1-b859-9bdcb0086643",
   "metadata": {},
   "outputs": [],
   "source": []
  },
  {
   "cell_type": "markdown",
   "id": "d1f64a89-760e-4058-90c7-21685ab840e9",
   "metadata": {},
   "source": [
    "# נושא חמישי לחקירה"
   ]
  },
  {
   "cell_type": "code",
   "execution_count": null,
   "id": "d247e6a6-2d74-4cb1-9719-4e5d7953f052",
   "metadata": {},
   "outputs": [],
   "source": []
  },
  {
   "cell_type": "code",
   "execution_count": null,
   "id": "8aef8206-1f29-4817-bbc8-7a8301e6a6c0",
   "metadata": {},
   "outputs": [],
   "source": []
  },
  {
   "cell_type": "markdown",
   "id": "a2dca728-9c3c-45f5-a60b-bdda60d7add7",
   "metadata": {},
   "source": [
    "# **מסקנות ותובנות נושא 5:**"
   ]
  },
  {
   "cell_type": "code",
   "execution_count": null,
   "id": "fa956c5d-4e98-4968-b5e8-2e67eeada306",
   "metadata": {},
   "outputs": [],
   "source": []
  },
  {
   "cell_type": "markdown",
   "id": "1cf2fc9e-e6e4-4356-b3e5-ecb1621002d3",
   "metadata": {},
   "source": [
    "# סיכום העבודה"
   ]
  },
  {
   "cell_type": "code",
   "execution_count": null,
   "id": "0206c219-2eda-4aea-bf88-115772174339",
   "metadata": {},
   "outputs": [],
   "source": []
  },
  {
   "cell_type": "markdown",
   "id": "f64806d0-8145-46c1-9414-de0aef0649dd",
   "metadata": {},
   "source": [
    "# נספחים:"
   ]
  },
  {
   "cell_type": "code",
   "execution_count": null,
   "id": "8f0ced13-2fe0-4c10-8ed7-3c7dbb9ead51",
   "metadata": {},
   "outputs": [],
   "source": []
  },
  {
   "cell_type": "code",
   "execution_count": null,
   "id": "8d2fa410-28d8-4213-b129-fb30b9931e6e",
   "metadata": {},
   "outputs": [],
   "source": []
  },
  {
   "cell_type": "code",
   "execution_count": null,
   "id": "62c12a2d-e96b-49f0-bdd2-48579b6ca6b5",
   "metadata": {},
   "outputs": [],
   "source": []
  }
 ],
 "metadata": {
  "kernelspec": {
   "display_name": "Python 3 (ipykernel)",
   "language": "python",
   "name": "python3"
  },
  "language_info": {
   "codemirror_mode": {
    "name": "ipython",
    "version": 3
   },
   "file_extension": ".py",
   "mimetype": "text/x-python",
   "name": "python",
   "nbconvert_exporter": "python",
   "pygments_lexer": "ipython3",
   "version": "3.11.7"
  }
 },
 "nbformat": 4,
 "nbformat_minor": 5
}
