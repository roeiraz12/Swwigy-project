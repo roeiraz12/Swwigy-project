{
 "cells": [
  {
   "cell_type": "code",
   "execution_count": 1,
   "id": "3b5603cc-b725-47e6-94b0-0ff840441398",
   "metadata": {
    "tags": []
   },
   "outputs": [
    {
     "name": "stdout",
     "output_type": "stream",
     "text": [
      "Requirement already satisfied: pandas in c:\\users\\pc\\anaconda3\\lib\\site-packages (2.0.3)\n",
      "Requirement already satisfied: python-dateutil>=2.8.2 in c:\\users\\pc\\anaconda3\\lib\\site-packages (from pandas) (2.8.2)\n",
      "Requirement already satisfied: pytz>=2020.1 in c:\\users\\pc\\anaconda3\\lib\\site-packages (from pandas) (2023.3.post1)\n",
      "Requirement already satisfied: tzdata>=2022.1 in c:\\users\\pc\\anaconda3\\lib\\site-packages (from pandas) (2023.3)\n",
      "Requirement already satisfied: numpy>=1.21.0 in c:\\users\\pc\\anaconda3\\lib\\site-packages (from pandas) (1.24.3)\n",
      "Requirement already satisfied: six>=1.5 in c:\\users\\pc\\anaconda3\\lib\\site-packages (from python-dateutil>=2.8.2->pandas) (1.16.0)\n"
     ]
    }
   ],
   "source": [
    "#משימות שלי\n",
    "#  seaborn only הצגת גרפים כמו שליהי עשתה\n",
    "\n",
    "#ככל שהגיל של המשתמש עולה כך יש לו יתר כסף הוא מועסק והוא נשוי. כמות הילדים לא קשורה לגיל\n",
    "#השערה היא שבגלל שהמבוגרים מזמינים 2 ארוחות הם מחפשים דילים משתלמים ואין מסםיק לכן הדירוג שלהם בםרמטר זה יורד באופן כי מובהק\n",
    "\n",
    "#upload the data\n",
    "!pip install pandas\n",
    "import pandas as pd\n",
    "import numpy as np\n",
    "import seaborn as sns  # for creating the graphs\n",
    "\n",
    "# Replace 'your_file.csv' with the path to your CSV file\n",
    "url=\"https://raw.githubusercontent.com/roeiraz12/project/main/onlinedeliverydata.csv\"\n",
    "\n",
    "# Read the CSV file into a pandas DataFrame\n",
    "df = pd.read_csv(url)"
   ]
  },
  {
   "cell_type": "code",
   "execution_count": 2,
   "id": "d8c37599",
   "metadata": {},
   "outputs": [
    {
     "data": {
      "text/plain": [
       "(388, 55)"
      ]
     },
     "execution_count": 2,
     "metadata": {},
     "output_type": "execute_result"
    }
   ],
   "source": [
    "df.shape"
   ]
  },
  {
   "cell_type": "code",
   "execution_count": 3,
   "id": "893ed49f",
   "metadata": {},
   "outputs": [
    {
     "name": "stdout",
     "output_type": "stream",
     "text": [
      "<class 'pandas.core.frame.DataFrame'>\n",
      "RangeIndex: 388 entries, 0 to 387\n",
      "Data columns (total 55 columns):\n",
      " #   Column                                     Non-Null Count  Dtype  \n",
      "---  ------                                     --------------  -----  \n",
      " 0   Age                                        388 non-null    int64  \n",
      " 1   Gender                                     388 non-null    object \n",
      " 2   Marital Status                             388 non-null    object \n",
      " 3   Occupation                                 388 non-null    object \n",
      " 4   Monthly Income                             388 non-null    object \n",
      " 5   Educational Qualifications                 388 non-null    object \n",
      " 6   Family size                                388 non-null    int64  \n",
      " 7   latitude                                   388 non-null    float64\n",
      " 8   longitude                                  388 non-null    float64\n",
      " 9   Pin code                                   388 non-null    int64  \n",
      " 10  Medium (P1)                                388 non-null    object \n",
      " 11  Medium (P2)                                388 non-null    object \n",
      " 12  Meal(P1)                                   388 non-null    object \n",
      " 13  Meal(P2)                                   388 non-null    object \n",
      " 14  Perference(P1)                             388 non-null    object \n",
      " 15  Perference(P2)                             388 non-null    object \n",
      " 16  Ease and convenient                        388 non-null    object \n",
      " 17  Time saving                                388 non-null    object \n",
      " 18  More restaurant choices                    388 non-null    object \n",
      " 19  Easy Payment option                        388 non-null    object \n",
      " 20  More Offers and Discount                   388 non-null    object \n",
      " 21  Good Food quality                          388 non-null    object \n",
      " 22  Good Tracking system                       388 non-null    object \n",
      " 23  Self Cooking                               388 non-null    object \n",
      " 24  Health Concern                             388 non-null    object \n",
      " 25  Late Delivery                              388 non-null    object \n",
      " 26  Poor Hygiene                               388 non-null    object \n",
      " 27  Bad past experience                        388 non-null    object \n",
      " 28  Unavailability                             388 non-null    object \n",
      " 29  Unaffordable                               388 non-null    object \n",
      " 30  Long delivery time                         388 non-null    object \n",
      " 31  Delay of delivery person getting assigned  388 non-null    object \n",
      " 32  Delay of delivery person picking up food   388 non-null    object \n",
      " 33  Wrong order delivered                      388 non-null    object \n",
      " 34  Missing item                               388 non-null    object \n",
      " 35  Order placed by mistake                    388 non-null    object \n",
      " 36  Influence of time                          388 non-null    object \n",
      " 37  Order Time                                 388 non-null    object \n",
      " 38  Maximum wait time                          388 non-null    object \n",
      " 39  Residence in busy location                 388 non-null    object \n",
      " 40  Google Maps Accuracy                       388 non-null    object \n",
      " 41  Good Road Condition                        388 non-null    object \n",
      " 42  Low quantity low time                      388 non-null    object \n",
      " 43  Delivery person ability                    388 non-null    object \n",
      " 44  Influence of rating                        388 non-null    object \n",
      " 45  Less Delivery time                         388 non-null    object \n",
      " 46  High Quality of package                    388 non-null    object \n",
      " 47  Number of calls                            388 non-null    object \n",
      " 48  Politeness                                 388 non-null    object \n",
      " 49  Freshness                                  388 non-null    object \n",
      " 50  Temperature                                388 non-null    object \n",
      " 51  Good Taste                                 388 non-null    object \n",
      " 52  Good Quantity                              388 non-null    object \n",
      " 53  Output                                     388 non-null    object \n",
      " 54  Reviews                                    387 non-null    object \n",
      "dtypes: float64(2), int64(3), object(50)\n",
      "memory usage: 166.8+ KB\n"
     ]
    }
   ],
   "source": [
    "df.info()"
   ]
  },
  {
   "cell_type": "code",
   "execution_count": 4,
   "id": "b59ca077",
   "metadata": {},
   "outputs": [
    {
     "data": {
      "text/plain": [
       "Index(['Age', 'Gender', 'Marital Status', 'Occupation', 'Monthly Income',\n",
       "       'Educational Qualifications', 'Family size', 'latitude', 'longitude',\n",
       "       'Pin code', 'Medium (P1)', 'Medium (P2)', 'Meal(P1)', 'Meal(P2)',\n",
       "       'Perference(P1)', 'Perference(P2)', 'Ease and convenient',\n",
       "       'Time saving', 'More restaurant choices', 'Easy Payment option',\n",
       "       'More Offers and Discount', 'Good Food quality', 'Good Tracking system',\n",
       "       'Self Cooking', 'Health Concern', 'Late Delivery', 'Poor Hygiene',\n",
       "       'Bad past experience', 'Unavailability', 'Unaffordable',\n",
       "       'Long delivery time', 'Delay of delivery person getting assigned',\n",
       "       'Delay of delivery person picking up food', 'Wrong order delivered',\n",
       "       'Missing item', 'Order placed by mistake', 'Influence of time',\n",
       "       'Order Time', 'Maximum wait time', 'Residence in busy location',\n",
       "       'Google Maps Accuracy', 'Good Road Condition', 'Low quantity low time',\n",
       "       'Delivery person ability', 'Influence of rating', 'Less Delivery time',\n",
       "       'High Quality of package', 'Number of calls', 'Politeness',\n",
       "       'Freshness ', 'Temperature', 'Good Taste ', 'Good Quantity', 'Output',\n",
       "       'Reviews'],\n",
       "      dtype='object')"
      ]
     },
     "execution_count": 4,
     "metadata": {},
     "output_type": "execute_result"
    }
   ],
   "source": [
    "column_names = df.columns\n",
    "column_names\n"
   ]
  },
  {
   "cell_type": "markdown",
   "id": "91ad6f2b-f355-4be3-93b4-0d2bcf5e1bb8",
   "metadata": {},
   "source": [
    "**:המרת עמודת מטקסט למספר**"
   ]
  },
  {
   "cell_type": "code",
   "execution_count": 5,
   "id": "c139caec-ba55-4276-b8e2-12aab8a71ed7",
   "metadata": {
    "tags": []
   },
   "outputs": [
    {
     "data": {
      "text/html": [
       "<div>\n",
       "<style scoped>\n",
       "    .dataframe tbody tr th:only-of-type {\n",
       "        vertical-align: middle;\n",
       "    }\n",
       "\n",
       "    .dataframe tbody tr th {\n",
       "        vertical-align: top;\n",
       "    }\n",
       "\n",
       "    .dataframe thead th {\n",
       "        text-align: right;\n",
       "    }\n",
       "</style>\n",
       "<table border=\"1\" class=\"dataframe\">\n",
       "  <thead>\n",
       "    <tr style=\"text-align: right;\">\n",
       "      <th></th>\n",
       "      <th>Age</th>\n",
       "      <th>Gender</th>\n",
       "      <th>Marital Status</th>\n",
       "      <th>Occupation</th>\n",
       "      <th>Monthly Income</th>\n",
       "      <th>Educational Qualifications</th>\n",
       "      <th>Family size</th>\n",
       "      <th>latitude</th>\n",
       "      <th>longitude</th>\n",
       "      <th>Pin code</th>\n",
       "      <th>...</th>\n",
       "      <th>Less Delivery time</th>\n",
       "      <th>High Quality of package</th>\n",
       "      <th>Number of calls</th>\n",
       "      <th>Politeness</th>\n",
       "      <th>Freshness</th>\n",
       "      <th>Temperature</th>\n",
       "      <th>Good Taste</th>\n",
       "      <th>Good Quantity</th>\n",
       "      <th>Output</th>\n",
       "      <th>Reviews</th>\n",
       "    </tr>\n",
       "  </thead>\n",
       "  <tbody>\n",
       "    <tr>\n",
       "      <th>0</th>\n",
       "      <td>20</td>\n",
       "      <td>0</td>\n",
       "      <td>Single</td>\n",
       "      <td>Student</td>\n",
       "      <td>No Income</td>\n",
       "      <td>Post Graduate</td>\n",
       "      <td>4</td>\n",
       "      <td>12.9766</td>\n",
       "      <td>77.5993</td>\n",
       "      <td>560001</td>\n",
       "      <td>...</td>\n",
       "      <td>3</td>\n",
       "      <td>3</td>\n",
       "      <td>3</td>\n",
       "      <td>3</td>\n",
       "      <td>3</td>\n",
       "      <td>3</td>\n",
       "      <td>3</td>\n",
       "      <td>3</td>\n",
       "      <td>1</td>\n",
       "      <td>Nil\\n</td>\n",
       "    </tr>\n",
       "    <tr>\n",
       "      <th>1</th>\n",
       "      <td>24</td>\n",
       "      <td>0</td>\n",
       "      <td>Single</td>\n",
       "      <td>Student</td>\n",
       "      <td>Below Rs.10000</td>\n",
       "      <td>Graduate</td>\n",
       "      <td>3</td>\n",
       "      <td>12.9770</td>\n",
       "      <td>77.5773</td>\n",
       "      <td>560009</td>\n",
       "      <td>...</td>\n",
       "      <td>5</td>\n",
       "      <td>5</td>\n",
       "      <td>5</td>\n",
       "      <td>5</td>\n",
       "      <td>5</td>\n",
       "      <td>5</td>\n",
       "      <td>5</td>\n",
       "      <td>5</td>\n",
       "      <td>1</td>\n",
       "      <td>Nil</td>\n",
       "    </tr>\n",
       "    <tr>\n",
       "      <th>2</th>\n",
       "      <td>22</td>\n",
       "      <td>1</td>\n",
       "      <td>Single</td>\n",
       "      <td>Student</td>\n",
       "      <td>Below Rs.10000</td>\n",
       "      <td>Post Graduate</td>\n",
       "      <td>3</td>\n",
       "      <td>12.9551</td>\n",
       "      <td>77.6593</td>\n",
       "      <td>560017</td>\n",
       "      <td>...</td>\n",
       "      <td>4</td>\n",
       "      <td>5</td>\n",
       "      <td>3</td>\n",
       "      <td>5</td>\n",
       "      <td>5</td>\n",
       "      <td>4</td>\n",
       "      <td>5</td>\n",
       "      <td>3</td>\n",
       "      <td>1</td>\n",
       "      <td>Many a times payment gateways are an issue, so...</td>\n",
       "    </tr>\n",
       "    <tr>\n",
       "      <th>3</th>\n",
       "      <td>22</td>\n",
       "      <td>0</td>\n",
       "      <td>Single</td>\n",
       "      <td>Student</td>\n",
       "      <td>No Income</td>\n",
       "      <td>Graduate</td>\n",
       "      <td>6</td>\n",
       "      <td>12.9473</td>\n",
       "      <td>77.5616</td>\n",
       "      <td>560019</td>\n",
       "      <td>...</td>\n",
       "      <td>5</td>\n",
       "      <td>4</td>\n",
       "      <td>3</td>\n",
       "      <td>5</td>\n",
       "      <td>5</td>\n",
       "      <td>5</td>\n",
       "      <td>5</td>\n",
       "      <td>4</td>\n",
       "      <td>1</td>\n",
       "      <td>nil</td>\n",
       "    </tr>\n",
       "    <tr>\n",
       "      <th>4</th>\n",
       "      <td>22</td>\n",
       "      <td>1</td>\n",
       "      <td>Single</td>\n",
       "      <td>Student</td>\n",
       "      <td>Below Rs.10000</td>\n",
       "      <td>Post Graduate</td>\n",
       "      <td>4</td>\n",
       "      <td>12.9850</td>\n",
       "      <td>77.5533</td>\n",
       "      <td>560010</td>\n",
       "      <td>...</td>\n",
       "      <td>4</td>\n",
       "      <td>4</td>\n",
       "      <td>3</td>\n",
       "      <td>4</td>\n",
       "      <td>4</td>\n",
       "      <td>4</td>\n",
       "      <td>5</td>\n",
       "      <td>5</td>\n",
       "      <td>1</td>\n",
       "      <td>NIL</td>\n",
       "    </tr>\n",
       "    <tr>\n",
       "      <th>...</th>\n",
       "      <td>...</td>\n",
       "      <td>...</td>\n",
       "      <td>...</td>\n",
       "      <td>...</td>\n",
       "      <td>...</td>\n",
       "      <td>...</td>\n",
       "      <td>...</td>\n",
       "      <td>...</td>\n",
       "      <td>...</td>\n",
       "      <td>...</td>\n",
       "      <td>...</td>\n",
       "      <td>...</td>\n",
       "      <td>...</td>\n",
       "      <td>...</td>\n",
       "      <td>...</td>\n",
       "      <td>...</td>\n",
       "      <td>...</td>\n",
       "      <td>...</td>\n",
       "      <td>...</td>\n",
       "      <td>...</td>\n",
       "      <td>...</td>\n",
       "    </tr>\n",
       "    <tr>\n",
       "      <th>383</th>\n",
       "      <td>23</td>\n",
       "      <td>0</td>\n",
       "      <td>Single</td>\n",
       "      <td>Student</td>\n",
       "      <td>No Income</td>\n",
       "      <td>Post Graduate</td>\n",
       "      <td>2</td>\n",
       "      <td>12.9766</td>\n",
       "      <td>77.5993</td>\n",
       "      <td>560001</td>\n",
       "      <td>...</td>\n",
       "      <td>4</td>\n",
       "      <td>4</td>\n",
       "      <td>4</td>\n",
       "      <td>4</td>\n",
       "      <td>4</td>\n",
       "      <td>4</td>\n",
       "      <td>4</td>\n",
       "      <td>4</td>\n",
       "      <td>1</td>\n",
       "      <td>Nil</td>\n",
       "    </tr>\n",
       "    <tr>\n",
       "      <th>384</th>\n",
       "      <td>23</td>\n",
       "      <td>0</td>\n",
       "      <td>Single</td>\n",
       "      <td>Student</td>\n",
       "      <td>No Income</td>\n",
       "      <td>Post Graduate</td>\n",
       "      <td>4</td>\n",
       "      <td>12.9854</td>\n",
       "      <td>77.7081</td>\n",
       "      <td>560048</td>\n",
       "      <td>...</td>\n",
       "      <td>3</td>\n",
       "      <td>5</td>\n",
       "      <td>3</td>\n",
       "      <td>3</td>\n",
       "      <td>3</td>\n",
       "      <td>3</td>\n",
       "      <td>5</td>\n",
       "      <td>5</td>\n",
       "      <td>1</td>\n",
       "      <td>Nil</td>\n",
       "    </tr>\n",
       "    <tr>\n",
       "      <th>385</th>\n",
       "      <td>22</td>\n",
       "      <td>0</td>\n",
       "      <td>Single</td>\n",
       "      <td>Student</td>\n",
       "      <td>No Income</td>\n",
       "      <td>Post Graduate</td>\n",
       "      <td>5</td>\n",
       "      <td>12.9850</td>\n",
       "      <td>77.5533</td>\n",
       "      <td>560010</td>\n",
       "      <td>...</td>\n",
       "      <td>4</td>\n",
       "      <td>5</td>\n",
       "      <td>4</td>\n",
       "      <td>4</td>\n",
       "      <td>5</td>\n",
       "      <td>5</td>\n",
       "      <td>5</td>\n",
       "      <td>5</td>\n",
       "      <td>1</td>\n",
       "      <td>Nil</td>\n",
       "    </tr>\n",
       "    <tr>\n",
       "      <th>386</th>\n",
       "      <td>23</td>\n",
       "      <td>1</td>\n",
       "      <td>Single</td>\n",
       "      <td>Student</td>\n",
       "      <td>Below Rs.10000</td>\n",
       "      <td>Post Graduate</td>\n",
       "      <td>2</td>\n",
       "      <td>12.9770</td>\n",
       "      <td>77.5773</td>\n",
       "      <td>560009</td>\n",
       "      <td>...</td>\n",
       "      <td>4</td>\n",
       "      <td>5</td>\n",
       "      <td>4</td>\n",
       "      <td>5</td>\n",
       "      <td>5</td>\n",
       "      <td>4</td>\n",
       "      <td>5</td>\n",
       "      <td>5</td>\n",
       "      <td>1</td>\n",
       "      <td>Language barrier is also one major issue. Mosl...</td>\n",
       "    </tr>\n",
       "    <tr>\n",
       "      <th>387</th>\n",
       "      <td>23</td>\n",
       "      <td>1</td>\n",
       "      <td>Single</td>\n",
       "      <td>Student</td>\n",
       "      <td>No Income</td>\n",
       "      <td>Post Graduate</td>\n",
       "      <td>5</td>\n",
       "      <td>12.8988</td>\n",
       "      <td>77.5764</td>\n",
       "      <td>560078</td>\n",
       "      <td>...</td>\n",
       "      <td>2</td>\n",
       "      <td>1</td>\n",
       "      <td>2</td>\n",
       "      <td>3</td>\n",
       "      <td>3</td>\n",
       "      <td>3</td>\n",
       "      <td>3</td>\n",
       "      <td>2</td>\n",
       "      <td>1</td>\n",
       "      <td>Nil</td>\n",
       "    </tr>\n",
       "  </tbody>\n",
       "</table>\n",
       "<p>388 rows × 55 columns</p>\n",
       "</div>"
      ],
      "text/plain": [
       "     Age  Gender Marital Status Occupation  Monthly Income  \\\n",
       "0     20       0         Single    Student       No Income   \n",
       "1     24       0         Single    Student  Below Rs.10000   \n",
       "2     22       1         Single    Student  Below Rs.10000   \n",
       "3     22       0         Single    Student       No Income   \n",
       "4     22       1         Single    Student  Below Rs.10000   \n",
       "..   ...     ...            ...        ...             ...   \n",
       "383   23       0         Single    Student       No Income   \n",
       "384   23       0         Single    Student       No Income   \n",
       "385   22       0         Single    Student       No Income   \n",
       "386   23       1         Single    Student  Below Rs.10000   \n",
       "387   23       1         Single    Student       No Income   \n",
       "\n",
       "    Educational Qualifications  Family size  latitude  longitude  Pin code  \\\n",
       "0                Post Graduate            4   12.9766    77.5993    560001   \n",
       "1                     Graduate            3   12.9770    77.5773    560009   \n",
       "2                Post Graduate            3   12.9551    77.6593    560017   \n",
       "3                     Graduate            6   12.9473    77.5616    560019   \n",
       "4                Post Graduate            4   12.9850    77.5533    560010   \n",
       "..                         ...          ...       ...        ...       ...   \n",
       "383              Post Graduate            2   12.9766    77.5993    560001   \n",
       "384              Post Graduate            4   12.9854    77.7081    560048   \n",
       "385              Post Graduate            5   12.9850    77.5533    560010   \n",
       "386              Post Graduate            2   12.9770    77.5773    560009   \n",
       "387              Post Graduate            5   12.8988    77.5764    560078   \n",
       "\n",
       "     ... Less Delivery time  High Quality of package Number of calls  \\\n",
       "0    ...                  3                        3               3   \n",
       "1    ...                  5                        5               5   \n",
       "2    ...                  4                        5               3   \n",
       "3    ...                  5                        4               3   \n",
       "4    ...                  4                        4               3   \n",
       "..   ...                ...                      ...             ...   \n",
       "383  ...                  4                        4               4   \n",
       "384  ...                  3                        5               3   \n",
       "385  ...                  4                        5               4   \n",
       "386  ...                  4                        5               4   \n",
       "387  ...                  2                        1               2   \n",
       "\n",
       "    Politeness Freshness  Temperature  Good Taste   Good Quantity  Output  \\\n",
       "0            3          3           3            3              3       1   \n",
       "1            5          5           5            5              5       1   \n",
       "2            5          5           4            5              3       1   \n",
       "3            5          5           5            5              4       1   \n",
       "4            4          4           4            5              5       1   \n",
       "..         ...        ...         ...          ...            ...     ...   \n",
       "383          4          4           4            4              4       1   \n",
       "384          3          3           3            5              5       1   \n",
       "385          4          5           5            5              5       1   \n",
       "386          5          5           4            5              5       1   \n",
       "387          3          3           3            3              2       1   \n",
       "\n",
       "                                               Reviews  \n",
       "0                                                Nil\\n  \n",
       "1                                                  Nil  \n",
       "2    Many a times payment gateways are an issue, so...  \n",
       "3                                                  nil  \n",
       "4                                                  NIL  \n",
       "..                                                 ...  \n",
       "383                                                Nil  \n",
       "384                                                Nil  \n",
       "385                                                Nil  \n",
       "386  Language barrier is also one major issue. Mosl...  \n",
       "387                                                Nil  \n",
       "\n",
       "[388 rows x 55 columns]"
      ]
     },
     "execution_count": 5,
     "metadata": {},
     "output_type": "execute_result"
    }
   ],
   "source": [
    "#changing the text value in numeric values in some coulomns:\n",
    "\n",
    "\n",
    "column_names = df.columns\n",
    "column_names\n",
    "\n",
    "\n",
    "#new dictionary \n",
    "mapping = {\n",
    "    'Strongly agree': 5,\n",
    "    'Strongly Agree': 5,\n",
    "    'Agree': 4,\n",
    "    'Neutral': 3,\n",
    "    'Disagree': 2,\n",
    "    'Strongly disagree': 1\n",
    "}\n",
    "\n",
    "#new dictionary \n",
    "mapping2 = {\n",
    "    'Very Important': 5,\n",
    "    'Important': 4,\n",
    "    'Moderately Important': 3,\n",
    "    'Slightly Important': 2,\n",
    "    'Unimportant': 1\n",
    "}\n",
    "\n",
    "#new dictionary \n",
    "mapping3 = {\n",
    "    'Strongly agree': 1,\n",
    "    'Strongly Agree': 1,\n",
    "    'Agree': 2,\n",
    "    'Neutral': 3,\n",
    "    'Disagree': 4,\n",
    "    'Strongly disagree': 5\n",
    "}\n",
    "\n",
    "mapping4 = {\n",
    "    ' Web browser': 1,\n",
    "    ' Direct call': 2,\n",
    "    ' Walk-in': 3,\n",
    "}\n",
    "\n",
    "mapping5 = {\n",
    "    'Yes': 1,\n",
    "    'No': 0\n",
    "}\n",
    "\n",
    "mapping6 = {\n",
    "    'Female': 0,\n",
    "    'Male': 1\n",
    "}\n",
    "\n",
    "# List of columns to apply the mappings to\n",
    "columns = [\n",
    "    'Ease and convenient', 'Time saving', 'Easy Payment option',\n",
    "    'Good Food quality', 'Good Tracking system',\n",
    "    'Self Cooking', 'Health Concern', 'Unavailability', 'Residence in busy location',\n",
    "    \n",
    "    'Unaffordable','Delivery person ability', #?חייב לציין שלא הבנתי מה העמודות מכאן והלאה אומרות\n",
    "     'Google Maps Accuracy', 'Good Road Condition', 'Low quantity low time']\n",
    "\n",
    "columns2 = [\n",
    "    'Less Delivery time',\n",
    "    'High Quality of package', 'Number of calls', 'Politeness',\n",
    "    'Freshness ', 'Temperature', 'Good Taste ', 'Good Quantity']\n",
    "\n",
    "columns3 = [   #הפוך בדירוג\n",
    "    'More restaurant choices','More Offers and Discount','Late Delivery', 'Poor Hygiene', 'Bad past experience', 'Long delivery time', 'Delay of delivery person getting assigned','Delay of delivery person picking up food', 'Wrong order delivered',\n",
    "    'Missing item', 'Order placed by mistake']\n",
    "  \n",
    "\n",
    "columns4 = ['Medium (P2)']\n",
    "\n",
    "columns5 = ['Output']\n",
    "\n",
    "columns6 = ['Gender']\n",
    "\n",
    "\n",
    "# Apply the mapping to each specified column using .map()\n",
    "for col in columns:\n",
    "    if col in df.columns:\n",
    "        df[col] = df[col].map(mapping)\n",
    "\n",
    "# Apply the second mapping to each specified column using .map()\n",
    "for col in columns2:\n",
    "    if col in df.columns:\n",
    "        df[col] = df[col].map(mapping2)\n",
    "\n",
    "# Apply the third mapping to each specified column using .map()\n",
    "for col in columns3:\n",
    "    if col in df.columns:\n",
    "        df[col] = df[col].map(mapping3)\n",
    "        \n",
    "# Apply the third mapping to each specified column using .map()\n",
    "for col in columns4:\n",
    "    if col in df.columns:\n",
    "        df[col] = df[col].map(mapping4)\n",
    "        \n",
    "for col in columns5:\n",
    "    if col in df.columns:\n",
    "        df[col] = df[col].map(mapping5)\n",
    "        \n",
    "for col in columns6:\n",
    "    if col in df.columns:\n",
    "        df[col] = df[col].map(mapping6)\n",
    "\n",
    "\n",
    "# Display the updated dataframe\n",
    "df\n"
   ]
  },
  {
   "cell_type": "markdown",
   "id": "d17b7bc2-bc82-4bff-be35-eae61ea5e1f4",
   "metadata": {},
   "source": [
    "****:יצירת עמודה חדשה שתקרא \"דירוג כולל\" הבנויה מממוצע הציונים בכל קטגוריה**** "
   ]
  },
  {
   "cell_type": "code",
   "execution_count": 6,
   "id": "b2f9fae8",
   "metadata": {},
   "outputs": [
    {
     "data": {
      "text/html": [
       "<div>\n",
       "<style scoped>\n",
       "    .dataframe tbody tr th:only-of-type {\n",
       "        vertical-align: middle;\n",
       "    }\n",
       "\n",
       "    .dataframe tbody tr th {\n",
       "        vertical-align: top;\n",
       "    }\n",
       "\n",
       "    .dataframe thead th {\n",
       "        text-align: right;\n",
       "    }\n",
       "</style>\n",
       "<table border=\"1\" class=\"dataframe\">\n",
       "  <thead>\n",
       "    <tr style=\"text-align: right;\">\n",
       "      <th></th>\n",
       "      <th>Overall Rating</th>\n",
       "    </tr>\n",
       "  </thead>\n",
       "  <tbody>\n",
       "    <tr>\n",
       "      <th>0</th>\n",
       "      <td>2.750000</td>\n",
       "    </tr>\n",
       "    <tr>\n",
       "      <th>1</th>\n",
       "      <td>3.041667</td>\n",
       "    </tr>\n",
       "    <tr>\n",
       "      <th>2</th>\n",
       "      <td>3.166667</td>\n",
       "    </tr>\n",
       "    <tr>\n",
       "      <th>3</th>\n",
       "      <td>3.541667</td>\n",
       "    </tr>\n",
       "    <tr>\n",
       "      <th>4</th>\n",
       "      <td>3.125000</td>\n",
       "    </tr>\n",
       "    <tr>\n",
       "      <th>...</th>\n",
       "      <td>...</td>\n",
       "    </tr>\n",
       "    <tr>\n",
       "      <th>383</th>\n",
       "      <td>3.041667</td>\n",
       "    </tr>\n",
       "    <tr>\n",
       "      <th>384</th>\n",
       "      <td>3.000000</td>\n",
       "    </tr>\n",
       "    <tr>\n",
       "      <th>385</th>\n",
       "      <td>2.958333</td>\n",
       "    </tr>\n",
       "    <tr>\n",
       "      <th>386</th>\n",
       "      <td>3.416667</td>\n",
       "    </tr>\n",
       "    <tr>\n",
       "      <th>387</th>\n",
       "      <td>3.041667</td>\n",
       "    </tr>\n",
       "  </tbody>\n",
       "</table>\n",
       "<p>388 rows × 1 columns</p>\n",
       "</div>"
      ],
      "text/plain": [
       "     Overall Rating\n",
       "0          2.750000\n",
       "1          3.041667\n",
       "2          3.166667\n",
       "3          3.541667\n",
       "4          3.125000\n",
       "..              ...\n",
       "383        3.041667\n",
       "384        3.000000\n",
       "385        2.958333\n",
       "386        3.416667\n",
       "387        3.041667\n",
       "\n",
       "[388 rows x 1 columns]"
      ]
     },
     "execution_count": 6,
     "metadata": {},
     "output_type": "execute_result"
    }
   ],
   "source": [
    "#creating a new coulomn called \"Overall Rating\" between 1-5:\n",
    "#average rating of each category\n",
    "#\n",
    "columns_to_average = ['Ease and convenient', 'Time saving', 'Easy Payment option',\n",
    "    'Good Food quality', 'Good Tracking system', 'Delivery person ability','Less Delivery time','High Quality of package',\n",
    "    'Politeness','Freshness ', 'Temperature', 'Good Taste ', 'Good Quantity', \n",
    "    'More restaurant choices','More Offers and Discount','Late Delivery', 'Poor Hygiene', 'Bad past experience',\n",
    "    'Long delivery time', 'Delay of delivery person getting assigned','Delay of delivery person picking up food','Wrong order delivered',\n",
    "    'Missing item', 'Order placed by mistake']\n",
    "df[\"Overall Rating\"] = df[columns_to_average].mean(axis=1)\n",
    "\n",
    "\n",
    "df[[\"Overall Rating\"]] #we can see the overall rating of each castumer down here:"
   ]
  },
  {
   "cell_type": "markdown",
   "id": "9f606dc3-4da4-41d3-9400-1fd4ee1ea0e7",
   "metadata": {},
   "source": [
    "**:ניתן לראות שככל שהגיל של המשתמש עולה הדירוג הממוצע יורד**"
   ]
  },
  {
   "cell_type": "code",
   "execution_count": 7,
   "id": "a374472b-d936-403b-a947-e7d0bd78fb5c",
   "metadata": {},
   "outputs": [
    {
     "data": {
      "text/html": [
       "<div>\n",
       "<style scoped>\n",
       "    .dataframe tbody tr th:only-of-type {\n",
       "        vertical-align: middle;\n",
       "    }\n",
       "\n",
       "    .dataframe tbody tr th {\n",
       "        vertical-align: top;\n",
       "    }\n",
       "\n",
       "    .dataframe thead th {\n",
       "        text-align: right;\n",
       "    }\n",
       "</style>\n",
       "<table border=\"1\" class=\"dataframe\">\n",
       "  <thead>\n",
       "    <tr style=\"text-align: right;\">\n",
       "      <th></th>\n",
       "      <th>Age</th>\n",
       "      <th>Overall Rating</th>\n",
       "    </tr>\n",
       "  </thead>\n",
       "  <tbody>\n",
       "    <tr>\n",
       "      <th>0</th>\n",
       "      <td>18</td>\n",
       "      <td>3.583333</td>\n",
       "    </tr>\n",
       "    <tr>\n",
       "      <th>1</th>\n",
       "      <td>19</td>\n",
       "      <td>3.406250</td>\n",
       "    </tr>\n",
       "    <tr>\n",
       "      <th>2</th>\n",
       "      <td>20</td>\n",
       "      <td>3.486111</td>\n",
       "    </tr>\n",
       "    <tr>\n",
       "      <th>3</th>\n",
       "      <td>21</td>\n",
       "      <td>3.436594</td>\n",
       "    </tr>\n",
       "    <tr>\n",
       "      <th>4</th>\n",
       "      <td>22</td>\n",
       "      <td>3.397661</td>\n",
       "    </tr>\n",
       "    <tr>\n",
       "      <th>5</th>\n",
       "      <td>23</td>\n",
       "      <td>3.295662</td>\n",
       "    </tr>\n",
       "    <tr>\n",
       "      <th>6</th>\n",
       "      <td>24</td>\n",
       "      <td>3.413333</td>\n",
       "    </tr>\n",
       "    <tr>\n",
       "      <th>7</th>\n",
       "      <td>25</td>\n",
       "      <td>3.399840</td>\n",
       "    </tr>\n",
       "    <tr>\n",
       "      <th>8</th>\n",
       "      <td>26</td>\n",
       "      <td>3.335714</td>\n",
       "    </tr>\n",
       "    <tr>\n",
       "      <th>9</th>\n",
       "      <td>27</td>\n",
       "      <td>3.214286</td>\n",
       "    </tr>\n",
       "    <tr>\n",
       "      <th>10</th>\n",
       "      <td>28</td>\n",
       "      <td>3.380556</td>\n",
       "    </tr>\n",
       "    <tr>\n",
       "      <th>11</th>\n",
       "      <td>29</td>\n",
       "      <td>3.309524</td>\n",
       "    </tr>\n",
       "    <tr>\n",
       "      <th>12</th>\n",
       "      <td>30</td>\n",
       "      <td>3.333333</td>\n",
       "    </tr>\n",
       "    <tr>\n",
       "      <th>13</th>\n",
       "      <td>31</td>\n",
       "      <td>3.453125</td>\n",
       "    </tr>\n",
       "    <tr>\n",
       "      <th>14</th>\n",
       "      <td>32</td>\n",
       "      <td>3.388021</td>\n",
       "    </tr>\n",
       "    <tr>\n",
       "      <th>15</th>\n",
       "      <td>33</td>\n",
       "      <td>2.875000</td>\n",
       "    </tr>\n",
       "  </tbody>\n",
       "</table>\n",
       "</div>"
      ],
      "text/plain": [
       "    Age  Overall Rating\n",
       "0    18        3.583333\n",
       "1    19        3.406250\n",
       "2    20        3.486111\n",
       "3    21        3.436594\n",
       "4    22        3.397661\n",
       "5    23        3.295662\n",
       "6    24        3.413333\n",
       "7    25        3.399840\n",
       "8    26        3.335714\n",
       "9    27        3.214286\n",
       "10   28        3.380556\n",
       "11   29        3.309524\n",
       "12   30        3.333333\n",
       "13   31        3.453125\n",
       "14   32        3.388021\n",
       "15   33        2.875000"
      ]
     },
     "execution_count": 7,
     "metadata": {},
     "output_type": "execute_result"
    }
   ],
   "source": [
    "#עשיתי ממוצע  לדירוג לכל שכבת גיל. הפלט יהיה בסדר יורד של הדירוג  \n",
    "rating_df = df.groupby(['Age'])[['Overall Rating']].mean().reset_index().sort_values(by=\"Age\" , ascending = True)\n",
    "rating_df"
   ]
  },
  {
   "cell_type": "code",
   "execution_count": 8,
   "id": "badbf0dc-5fcb-4745-990c-ccd798b7004f",
   "metadata": {
    "tags": []
   },
   "outputs": [
    {
     "data": {
      "image/png": "[encoded data removed]",
      "text/plain": [
       "<Figure size 640x480 with 1 Axes>"
      ]
     },
     "metadata": {},
     "output_type": "display_data"
    }
   ],
   "source": [
    "from scipy.stats import pearsonr\n",
    "\n",
    "sns.set(style=\"whitegrid\", palette=\"pastel\")\n",
    "\n",
    "# Create the regression plot\n",
    "ax = sns.regplot(x=rating_df[\"Age\"], y=rating_df[\"Overall Rating\"], \n",
    "                 line_kws={\"color\": \"skyblue\"}, \n",
    "                 scatter_kws={\"color\": \"lightcoral\", \"s\": 65})\n",
    "\n",
    "# Set title and labels\n",
    "ax.set_title('Regression Plot', fontsize=18)\n",
    "ax.set_xlabel('Age', fontsize=16)\n",
    "ax.set_ylabel('Overall Rating', fontsize=16)\n",
    "\n",
    "# Calculate Pearson correlation\n",
    "r_value, _ = pearsonr(rating_df[\"Age\"], rating_df[\"Overall Rating\"])\n",
    "rounded_r_value = round(r_value, 2)\n",
    "\n",
    "# Add the correlation text\n",
    "ax.text(0.95, 0.05, f'Correlation: {rounded_r_value}', \n",
    "        horizontalalignment='right', \n",
    "        verticalalignment='bottom', \n",
    "        transform=ax.transAxes, \n",
    "        fontsize=14, \n",
    "        bbox=dict(facecolor='white', alpha=0.5))\n",
    "\n",
    "# Adjust layout and show plot\n",
    "sns.despine()"
   ]
  },
  {
   "cell_type": "markdown",
   "id": "3016511f-a4fa-49c2-b653-76bf9cf4c120",
   "metadata": {
    "tags": []
   },
   "source": [
    "**:יצירת עמודה חדשה הבנויה מיחס הגיל והדירוג**"
   ]
  },
  {
   "cell_type": "code",
   "execution_count": 9,
   "id": "0a02802d-713e-48a5-9ed5-954873f0eb36",
   "metadata": {
    "tags": []
   },
   "outputs": [
    {
     "data": {
      "text/html": [
       "<div>\n",
       "<style scoped>\n",
       "    .dataframe tbody tr th:only-of-type {\n",
       "        vertical-align: middle;\n",
       "    }\n",
       "\n",
       "    .dataframe tbody tr th {\n",
       "        vertical-align: top;\n",
       "    }\n",
       "\n",
       "    .dataframe thead th {\n",
       "        text-align: right;\n",
       "    }\n",
       "</style>\n",
       "<table border=\"1\" class=\"dataframe\">\n",
       "  <thead>\n",
       "    <tr style=\"text-align: right;\">\n",
       "      <th></th>\n",
       "      <th>div</th>\n",
       "    </tr>\n",
       "    <tr>\n",
       "      <th>Age</th>\n",
       "      <th></th>\n",
       "    </tr>\n",
       "  </thead>\n",
       "  <tbody>\n",
       "    <tr>\n",
       "      <th>18</th>\n",
       "      <td>0.199074</td>\n",
       "    </tr>\n",
       "    <tr>\n",
       "      <th>19</th>\n",
       "      <td>0.179276</td>\n",
       "    </tr>\n",
       "    <tr>\n",
       "      <th>20</th>\n",
       "      <td>0.174306</td>\n",
       "    </tr>\n",
       "    <tr>\n",
       "      <th>21</th>\n",
       "      <td>0.163647</td>\n",
       "    </tr>\n",
       "    <tr>\n",
       "      <th>22</th>\n",
       "      <td>0.154439</td>\n",
       "    </tr>\n",
       "    <tr>\n",
       "      <th>23</th>\n",
       "      <td>0.143290</td>\n",
       "    </tr>\n",
       "    <tr>\n",
       "      <th>24</th>\n",
       "      <td>0.142222</td>\n",
       "    </tr>\n",
       "    <tr>\n",
       "      <th>25</th>\n",
       "      <td>0.135994</td>\n",
       "    </tr>\n",
       "    <tr>\n",
       "      <th>26</th>\n",
       "      <td>0.128297</td>\n",
       "    </tr>\n",
       "    <tr>\n",
       "      <th>27</th>\n",
       "      <td>0.119048</td>\n",
       "    </tr>\n",
       "    <tr>\n",
       "      <th>28</th>\n",
       "      <td>0.120734</td>\n",
       "    </tr>\n",
       "    <tr>\n",
       "      <th>29</th>\n",
       "      <td>0.114122</td>\n",
       "    </tr>\n",
       "    <tr>\n",
       "      <th>30</th>\n",
       "      <td>0.111111</td>\n",
       "    </tr>\n",
       "    <tr>\n",
       "      <th>31</th>\n",
       "      <td>0.111391</td>\n",
       "    </tr>\n",
       "    <tr>\n",
       "      <th>32</th>\n",
       "      <td>0.105876</td>\n",
       "    </tr>\n",
       "    <tr>\n",
       "      <th>33</th>\n",
       "      <td>0.087121</td>\n",
       "    </tr>\n",
       "  </tbody>\n",
       "</table>\n",
       "</div>"
      ],
      "text/plain": [
       "          div\n",
       "Age          \n",
       "18   0.199074\n",
       "19   0.179276\n",
       "20   0.174306\n",
       "21   0.163647\n",
       "22   0.154439\n",
       "23   0.143290\n",
       "24   0.142222\n",
       "25   0.135994\n",
       "26   0.128297\n",
       "27   0.119048\n",
       "28   0.120734\n",
       "29   0.114122\n",
       "30   0.111111\n",
       "31   0.111391\n",
       "32   0.105876\n",
       "33   0.087121"
      ]
     },
     "execution_count": 9,
     "metadata": {},
     "output_type": "execute_result"
    }
   ],
   "source": [
    "#scatter and box\n",
    "columns_to_div = ['Overall Rating', 'Age']\n",
    "\n",
    "\n",
    "\n",
    "# יצירת עמודה חדשה 'div' עם תוצאה של החילוק של כל עמודה ברשימה בעמודת Age\n",
    "for column in columns_to_div:\n",
    "    df[f'div_{column}'] =  df[\"Overall Rating\"] / df['Age']  \n",
    "\n",
    "div_df = df[[f'div_{column}']]\n",
    "\n",
    "df[\"div\"] = df[[f'div_{column}']]\n",
    "\n",
    "new_df = df.groupby('Age')[['div']].mean()   #evry year the sum of people impact\n",
    "new_df"
   ]
  },
  {
   "cell_type": "markdown",
   "id": "43774871-6dba-49c5-b168-de263dadbfe4",
   "metadata": {},
   "source": [
    "**:ניתן לראות בבירור שכאשר הגיל עולה הדירוג יורד**"
   ]
  },
  {
   "cell_type": "code",
   "execution_count": 10,
   "id": "876cc832-7cf4-438f-941f-2605ffb3dc20",
   "metadata": {
    "tags": []
   },
   "outputs": [
    {
     "data": {
      "image/png": "[encoded data removed]",
      "text/plain": [
       "<Figure size 640x480 with 1 Axes>"
      ]
     },
     "metadata": {},
     "output_type": "display_data"
    }
   ],
   "source": [
    "from scipy.stats import pearsonr\n",
    "\n",
    "\n",
    "# Set the style and color palette\n",
    "sns.set(style=\"whitegrid\", palette=\"pastel\")\n",
    "\n",
    "# Create the regression plot\n",
    "ax = sns.regplot(x=df[\"Age\"], y=df[\"div\"], \n",
    "                 line_kws={\"color\": \"yellow\"}, \n",
    "                 scatter_kws={\"color\": \"black\"})\n",
    "\n",
    "# Set title and labels\n",
    "ax.set_title('Regression Plot', fontsize=18)\n",
    "ax.set_xlabel('Age', fontsize=16)\n",
    "ax.set_ylabel('Overall Rating', fontsize=16)\n",
    "\n",
    "# Calculate Pearson correlation\n",
    "r_value, _ = pearsonr(df[\"Age\"], df[\"div\"])\n",
    "rounded_r_value = round(r_value, 2)\n",
    "\n",
    "# Print the correlation coefficient\n",
    "\n",
    "\n",
    "# Add the correlation text\n",
    "ax.text(0.95, 0.05, f'Correlation: {rounded_r_value}', \n",
    "        horizontalalignment='right', \n",
    "        verticalalignment='bottom', \n",
    "        transform=ax.transAxes, \n",
    "        fontsize=14, \n",
    "        bbox=dict(facecolor='white', alpha=0.5))\n",
    "\n",
    "# Adjust layout and show plot\n",
    "sns.despine()"
   ]
  },
  {
   "cell_type": "markdown",
   "id": "d1fb32dc-9ea3-4351-b974-e679bc55b5ab",
   "metadata": {},
   "source": [
    "**?ננסה להתעמק יותר בנתונים ונחפש הסבר מדוע בקרב משתמשים בוגרים יותר שביעות הרצון מהחברה יורדת**"
   ]
  },
  {
   "cell_type": "markdown",
   "id": "951ced17-59c2-4869-8150-190e3dda6ae5",
   "metadata": {
    "tags": []
   },
   "source": [
    "**?נבדוק באיזה פרמטר הפער בין שביעות הרצון של הצעירים למבוגרים הכי גדולה**"
   ]
  },
  {
   "cell_type": "markdown",
   "id": "b0a98768-15ee-4136-92e6-300349f70622",
   "metadata": {},
   "source": []
  },
  {
   "cell_type": "code",
   "execution_count": null,
   "id": "119ef8cf-c9ca-4a6f-b921-4a8e9129569b",
   "metadata": {
    "tags": []
   },
   "outputs": [],
   "source": []
  },
  {
   "cell_type": "markdown",
   "id": "2f6d172d-c961-484b-a70e-407c7ad5d1ba",
   "metadata": {},
   "source": []
  },
  {
   "cell_type": "code",
   "execution_count": null,
   "id": "0c7fcdb6-d60f-4fbf-8360-aa09d8f6b64d",
   "metadata": {},
   "outputs": [],
   "source": []
  },
  {
   "cell_type": "markdown",
   "id": "3daacf8d-c6a1-41ab-9417-6c80f11fdc56",
   "metadata": {
    "tags": []
   },
   "source": [
    "**:נחפש את הפרמטרים בהם ההפרש בין הצעירים והבוגרים הוא הגדול ביותר**"
   ]
  },
  {
   "cell_type": "code",
   "execution_count": 11,
   "id": "7bcfd749-685b-44b0-93bb-f881311fc0aa",
   "metadata": {},
   "outputs": [],
   "source": [
    "parm_df = df.groupby(['Age'])[['Ease and convenient', 'Time saving', 'Easy Payment option',\n",
    "    'Good Food quality', 'Good Tracking system',\n",
    "    'Self Cooking', 'Health Concern', 'Unavailability', 'Residence in busy location',\n",
    "    'Unaffordable','Delivery person ability', 'Google Maps Accuracy', 'Good Road Condition', 'Low quantity low time','Less Delivery time',\n",
    "    'High Quality of package', 'Number of calls', 'Politeness','Freshness ', 'Temperature', 'Good Taste ', 'Good Quantity',   \n",
    "    'More restaurant choices','More Offers and Discount','Late Delivery', 'Poor Hygiene', 'Bad past experience', 'Long delivery time',\n",
    "    'Delay of delivery person getting assigned','Delay of delivery person picking up food', 'Wrong order delivered',\n",
    "    'Missing item', 'Order placed by mistake']].mean().reset_index().sort_values(by=\"Age\" , ascending = True)\n",
    "\n",
    "final_df = parm_df[(parm_df['Age'] >= 19) & (parm_df['Age'] <= 32)]  #הורדת קצוות\n"
   ]
  },
  {
   "cell_type": "markdown",
   "id": "49ce1706-8bc5-4e63-a0b7-9999c3d56f48",
   "metadata": {},
   "source": [
    "**: מצאנו שבפרמטרים הבאים הפער היה הגבוה ביותר**\n",
    "1. נוחות התשלום\n",
    "2. חוסר בהנחות והטבות\n",
    "3. טעות בהזמנה    "
   ]
  },
  {
   "cell_type": "code",
   "execution_count": 12,
   "id": "c95e1635-8431-4b75-9bf4-7614bf1e814f",
   "metadata": {
    "tags": []
   },
   "outputs": [
    {
     "name": "stdout",
     "output_type": "stream",
     "text": [
      "Easy Payment option         2.0\n",
      "More Offers and Discount    1.9\n",
      "Wrong order delivered       1.9\n"
     ]
    }
   ],
   "source": [
    "# Calculate the difference between max and min for each column \n",
    "range_series = (final_df.set_index('Age').max() - final_df.set_index('Age').min()).round(1)\n",
    "\n",
    "# Identify the top 34 columns with the highest range\n",
    "top_34_changes = range_series.nlargest(3)\n",
    "\n",
    "# Display the result\n",
    "print(top_34_changes.to_string()) #מדפיס נתונים בלבד"
   ]
  },
  {
   "cell_type": "markdown",
   "id": "69edb0cd-8045-49a1-b8c8-25fc5c77c214",
   "metadata": {},
   "source": [
    "**:הקורלציה הגבוהה ביותר בין הגיל לבין הדירוג נמצאה דווקא בפרמטר של כמות ההנחות וההטבות**"
   ]
  },
  {
   "cell_type": "code",
   "execution_count": 26,
   "id": "a86d837e-c8a1-43f0-a276-c285d1ca861b",
   "metadata": {
    "tags": []
   },
   "outputs": [
    {
     "name": "stderr",
     "output_type": "stream",
     "text": [
      "C:\\Users\\PC\\anaconda3\\Lib\\site-packages\\seaborn\\axisgrid.py:118: UserWarning: The figure layout has changed to tight\n",
      "  self._figure.tight_layout(*args, **kwargs)\n"
     ]
    },
    {
     "data": {
      "image/png": "[encoded data removed]",
      "text/plain": [
       "<Figure size 800x500 with 1 Axes>"
      ]
     },
     "metadata": {},
     "output_type": "display_data"
    }
   ],
   "source": [
    "import seaborn as sns\n",
    "import pandas as pd\n",
    "from scipy.stats import pearsonr\n",
    "\n",
    "sns.set(style=\"whitegrid\", palette=\"pastel\")\n",
    "\n",
    "# Filter and process the data\n",
    "new_df = df.groupby(['Age'])[['Easy Payment option', 'Wrong order delivered', 'More Offers and Discount']].mean().reset_index().sort_values(by=\"Age\", ascending=True)\n",
    "\n",
    "# Create the plot using Seaborn\n",
    "ax = sns.lmplot(x='Age', y='More Offers and Discount', data=new_df, \n",
    "                height=5, aspect=1.6, \n",
    "                scatter_kws={\"color\": \"lightcoral\", \"s\": 50}, \n",
    "                line_kws={\"color\": \"skyblue\"})\n",
    "\n",
    "# Set y-axis limits\n",
    "ax.set(ylim=(1, 5))\n",
    "\n",
    "# Set title and labels\n",
    "ax.set_axis_labels('Age', 'Demand of Offers and Discount', fontsize=14)\n",
    "ax.fig.suptitle('Lack of Offers and Discount by Age', fontsize=18, y=1.03)\n",
    "\n",
    "# Calculate Pearson correlation\n",
    "r_value, _ = pearsonr(new_df[\"Age\"], new_df['More Offers and Discount'])\n",
    "rounded_r_value = round(r_value, 2)\n",
    "\n",
    "# Add the correlation text\n",
    "ax.ax.text(0.95, 0.05, f'Correlation: {rounded_r_value}', \n",
    "           horizontalalignment='right', \n",
    "           verticalalignment='bottom', \n",
    "           transform=ax.ax.transAxes, \n",
    "           fontsize=12, \n",
    "           bbox=dict(facecolor='white', alpha=0.5))\n",
    "\n",
    "# Adjust layout\n",
    "\n",
    "ax.tight_layout()\n",
    "sns.despine()"
   ]
  },
  {
   "cell_type": "markdown",
   "id": "ade910e0-d670-4953-94e0-180b35500f15",
   "metadata": {
    "tags": []
   },
   "source": [
    "#### ?נבדוק אולי בכך שהמשתמשים הבוגרים מזמינים יותר דרך אמצעי פחות חדיש כמו הגעה פיזית לסניף או טלפונית היא הגורמת לדירוג הנמוך"
   ]
  },
  {
   "cell_type": "code",
   "execution_count": 22,
   "id": "81fb3712-13fd-40e0-a7af-da86d274b670",
   "metadata": {
    "tags": []
   },
   "outputs": [
    {
     "name": "stderr",
     "output_type": "stream",
     "text": [
      "C:\\Users\\PC\\AppData\\Local\\Temp\\ipykernel_9828\\2651531318.py:20: UserWarning: FixedFormatter should only be used together with FixedLocator\n",
      "  ax.set_yticklabels(['{:,.0%}'.format(y) for y in ax.get_yticks()])\n"
     ]
    },
    {
     "data": {
      "image/png": "[encoded data removed]",
      "text/plain": [
       "<Figure size 1000x600 with 1 Axes>"
      ]
     },
     "metadata": {},
     "output_type": "display_data"
    }
   ],
   "source": [
    "sns.set(style=\"whitegrid\", palette=\"pastel\", rc={'figure.figsize':(10,6)})\n",
    "\n",
    "# Filter the data\n",
    "filtered_df = df[(df['Age'] >= 19) & (df['Age'] <= 31)]\n",
    "\n",
    "# Calculate the proportions\n",
    "proportions_df = filtered_df.groupby(['Age', 'Medium (P1)']).size().reset_index(name='Count')\n",
    "total_counts = proportions_df.groupby('Age')['Count'].transform('sum')\n",
    "proportions_df['Proportion'] = proportions_df['Count'] / total_counts\n",
    "\n",
    "# Plot the proportions as a bar plot\n",
    "ax = sns.barplot(x='Age', y='Proportion', hue='Medium (P1)', data=proportions_df)\n",
    "\n",
    "# Set the title and labels\n",
    "ax.set_title('Proportion of Medium (P1) by Age', fontsize=18)\n",
    "ax.set_xlabel('Age', fontsize=14)\n",
    "ax.set_ylabel('Proportion', fontsize=14)\n",
    "\n",
    "# Format y-axis as percentages\n",
    "ax.set_yticklabels(['{:,.0%}'.format(y) for y in ax.get_yticks()])\n",
    "\n",
    "ax.legend(loc='center right', bbox_to_anchor=(1.2, 0.5), title='Medium (P1)')\n",
    "\n",
    "\n",
    "\n",
    "# Adjust layout and show plot\n",
    "sns.despine()"
   ]
  },
  {
   "cell_type": "markdown",
   "id": "46923477-b747-474b-90fb-fe90329a3afd",
   "metadata": {
    "tags": []
   },
   "source": [
    "**.כפי שניתן לראות אין קשר בין אמצעי ההזמנה לבין הגיל**"
   ]
  },
  {
   "cell_type": "markdown",
   "id": "bf944510-dc7a-4a94-8536-a03d4e583685",
   "metadata": {
    "tags": []
   },
   "source": [
    "### ?נבדוק האם דירוג טעם הארוחה משתנה בין הגילים"
   ]
  },
  {
   "cell_type": "code",
   "execution_count": 46,
   "id": "fc6583de-4ed4-47db-a7f9-1c27c0d9e0da",
   "metadata": {
    "tags": []
   },
   "outputs": [
    {
     "data": {
      "image/png": "[encoded data removed]",
      "text/plain": [
       "<Figure size 1000x600 with 1 Axes>"
      ]
     },
     "metadata": {},
     "output_type": "display_data"
    }
   ],
   "source": [
    "taste_df = df.groupby(['Age'])[['Good Taste ']].mean().reset_index().sort_values(by=\"Age\", ascending=True)\n",
    "\n",
    "\n",
    "sns.set(style=\"whitegrid\", palette=\"pastel\", rc={'figure.figsize':(10,6)})\n",
    "\n",
    "# Filter the data\n",
    "filtered_df = df[(df['Age'] >= 19) & (df['Age'] <= 31)]\n",
    "\n",
    "# Create the line plot\n",
    "ax = sns.lineplot(data=filtered_df, x='Age', y='Good Taste ')\n",
    "\n",
    "# Set title and labels\n",
    "ax.set_title('Good Taste by Age', fontsize=18)\n",
    "ax.set_xlabel('Age', fontsize=14)\n",
    "ax.set_ylabel('Good Taste', fontsize=14)\n",
    "\n",
    "# Calculate Pearson correlation\n",
    "r_value, _ = pearsonr(filtered_df[\"Age\"], filtered_df['Good Taste '])\n",
    "rounded_r_value = round(r_value, 2)\n",
    "\n",
    "# Add the correlation text\n",
    "ax.text(0.95, 0.05, f'Correlation: {rounded_r_value}', \n",
    "        horizontalalignment='right', \n",
    "        verticalalignment='bottom', \n",
    "        transform=ax.transAxes, \n",
    "        fontsize=12, \n",
    "        bbox=dict(facecolor='white', alpha=0.5, edgecolor='black'))\n",
    "\n",
    "# Adjust layout and show plot\n",
    "sns.despine()"
   ]
  },
  {
   "cell_type": "markdown",
   "id": "2c916f8c-36c8-44bc-9176-b46e1d2c63da",
   "metadata": {
    "tags": []
   },
   "source": [
    "***.גם כאן ניתן לראות שלא רק טעם הארוחה הוא הגורם לירידה כה גדולה בדירוג הכללי***"
   ]
  },
  {
   "cell_type": "markdown",
   "id": "05b929a7-01d8-4516-9f97-1bcafaf15c56",
   "metadata": {
    "tags": []
   },
   "source": [
    "# :מסקנה\n"
   ]
  },
  {
   "cell_type": "markdown",
   "id": "f7835833-1029-45e4-bb76-b2c5795f1d78",
   "metadata": {},
   "source": [
    "***.לחברת סוויגי יש פערים שונים בשביעות הרצון בקרב משתמשים יותר מבוגרים***"
   ]
  },
  {
   "cell_type": "markdown",
   "id": "d5953ad0-f453-4c1a-b585-6b1b214f47ae",
   "metadata": {
    "tags": []
   },
   "source": [
    "***:ניתן לשער כי פער זה בין המשתמשים הצעירים למבוגרים נובע ממספר גורמים***"
   ]
  },
  {
   "cell_type": "markdown",
   "id": "76d935f4-df46-47ab-a735-c2cbff6d53cf",
   "metadata": {},
   "source": [
    "1. .חוסר הטבות והנחות. למשתמשים הבוגרים חוסר זה השפיע רבות על מתן הציון הסופי לחברת סוויגי\n",
    "\n",
    "2.  .פער טכנולוגי בין המשתמשים. חוסר ידע של המשתמשים המבוגרים בכלים טכנולוגיים כגון תשלום בכרטיס אשראי דרך הטלפון. ומנגד, יעילות של המערכת למשתמשים צעירים  \n",
    "     "
   ]
  },
  {
   "cell_type": "code",
   "execution_count": null,
   "id": "66afc650-074d-4cdc-a7ba-538ec0bfa93e",
   "metadata": {},
   "outputs": [],
   "source": []
  },
  {
   "cell_type": "code",
   "execution_count": null,
   "id": "26ec1ce8-3e6b-48ea-8cab-d3da0121ba94",
   "metadata": {},
   "outputs": [],
   "source": []
  },
  {
   "cell_type": "code",
   "execution_count": null,
   "id": "8975123c-fc95-41ef-bec0-3b7be42ffde0",
   "metadata": {},
   "outputs": [],
   "source": []
  },
  {
   "cell_type": "code",
   "execution_count": null,
   "id": "b2824755-4783-42ca-b224-d98a659ac015",
   "metadata": {},
   "outputs": [],
   "source": []
  },
  {
   "cell_type": "code",
   "execution_count": null,
   "id": "56b24a97-b52a-4032-ae43-3c62331a61a8",
   "metadata": {},
   "outputs": [],
   "source": []
  },
  {
   "cell_type": "code",
   "execution_count": null,
   "id": "bc7cd714-27d4-44df-aaa4-5e52d9d02948",
   "metadata": {},
   "outputs": [],
   "source": []
  },
  {
   "cell_type": "markdown",
   "id": "61b23299",
   "metadata": {},
   "source": [
    "***תובנה 2******************************************************************************************************************8"
   ]
  },
  {
   "cell_type": "markdown",
   "id": "ca99a56c",
   "metadata": {},
   "source": [
    "#רעיונות\n",
    "\n",
    "# פילחים לפי מנה סוג מנה מי מזמין גיל מגדר\n",
    "# מתי טועים יותר בהזמנות\n",
    "גברים מזמינים פי 2 יותר ממתקים מנשים\n",
    "+יום הזמנה לפי מנה גיל מגדר וכדו"
   ]
  },
  {
   "cell_type": "code",
   "execution_count": 16,
   "id": "9398926a",
   "metadata": {},
   "outputs": [
    {
     "data": {
      "text/plain": [
       "Gender\n",
       "1    222\n",
       "0    166\n",
       "Name: count, dtype: int64"
      ]
     },
     "execution_count": 16,
     "metadata": {},
     "output_type": "execute_result"
    }
   ],
   "source": [
    "df[\"Gender\"].value_counts()"
   ]
  },
  {
   "cell_type": "code",
   "execution_count": 17,
   "id": "9427f948",
   "metadata": {},
   "outputs": [
    {
     "data": {
      "text/plain": [
       "Gender\n",
       "1    82\n",
       "0    42\n",
       "Name: count, dtype: int64"
      ]
     },
     "execution_count": 17,
     "metadata": {},
     "output_type": "execute_result"
    }
   ],
   "source": [
    "#ממתקים קונים יותר מבוגרים#גברים מזמנים יותר ממתקים מנשים ב11 אחוז\n",
    "snack_df = df[(df['Meal(P1)'] == \"Snacks\")]     #0.36 m   #0.25\n",
    "snack_df[\"Gender\"].value_counts()"
   ]
  },
  {
   "cell_type": "code",
   "execution_count": 18,
   "id": "492604c4",
   "metadata": {},
   "outputs": [],
   "source": [
    "#  למה ממתקים הארוחה הכי נמכרת?\n",
    "#לא בגלל הטעם!\n",
    "#דירוג כללי עולה מעט בקינוחים\n",
    "#לטובת ממתקים ב0.3 בדירוג Delivery person ability,Good Road Condition,0.2 Google Maps Accuracy,\n",
    "#פחות טעויות במשלוח"
   ]
  },
  {
   "cell_type": "code",
   "execution_count": 19,
   "id": "c75e9446",
   "metadata": {},
   "outputs": [
    {
     "name": "stdout",
     "output_type": "stream",
     "text": [
      "0.15305952776854026\n"
     ]
    }
   ],
   "source": [
    "#למה ממתקים הכי נמכר?\n",
    "print(snack_df[\"Poor Hygiene\"].mean() - df[\"Poor Hygiene\"].mean())\n",
    "\n",
    "\n",
    "#late_df = df[(df['Late Delivery'] == 5) | (df['Late Delivery'] == 4)]   \n",
    "#late_df['Order Time'].value_counts()"
   ]
  },
  {
   "cell_type": "code",
   "execution_count": 20,
   "id": "2fe3cb41",
   "metadata": {},
   "outputs": [
    {
     "name": "stdout",
     "output_type": "stream",
     "text": [
      "ההפרש ב-Freshness  הוא: -0.3314765547056866\n",
      "ההפרש ב-Delivery person ability הוא: 0.28832723644828695\n",
      "ההפרש ב-Wrong order delivered הוא: 0.26429996674426315\n",
      "ההפרש ב-Order placed by mistake הוא: 0.2611406717658795\n",
      "ההפרש ב-Missing item הוא: 0.2584802128367141\n",
      "ההפרש ב-Self Cooking הוא: -0.25698370468905907\n",
      "ההפרש ב-Unavailability הוא: -0.24709012304622524\n",
      "ההפרש ב-Good Road Condition הוא: 0.23711340206185572\n"
     ]
    }
   ],
   "source": [
    "columns_to_compare = [ \n",
    "    'Less Delivery time','High Quality of package','Number of calls','Politeness','Freshness ',\n",
    "    'Temperature','Good Taste ','Good Quantity', 'Residence in busy location','Google Maps Accuracy',\n",
    "    'Good Road Condition','Low quantity low time','Delivery person ability', 'Order placed by mistake',\n",
    "    'Missing item', 'Wrong order delivered', 'Delay of delivery person picking up food',\n",
    "    'Delay of delivery person getting assigned', 'Long delivery time', 'Unaffordable', \n",
    "    'Unavailability', 'Bad past experience', 'Poor Hygiene', 'Late Delivery', \n",
    "    'Health Concern', 'Self Cooking', 'Good Tracking system', 'Good Food quality', \n",
    "    'More Offers and Discount', 'Easy Payment option', 'More restaurant choices', \n",
    "    'Time saving', 'Ease and convenient'\n",
    "]\n",
    "\n",
    "# חישוב ההפרשים לכל עמודה ואחסונם במילון\n",
    "differences = {}\n",
    "for column in columns_to_compare:\n",
    "    difference = snack_df[column].mean() - df[column].mean()\n",
    "    differences[column] = difference\n",
    "\n",
    "# מציאת שלושת ההפרשים הגדולים ביותר\n",
    "sorted_differences = sorted(differences.items(), key=lambda x: abs(x[1]), reverse=True)[:8]\n",
    "\n",
    "for column, diff in sorted_differences:\n",
    "    print(f\"ההפרש ב-{column} הוא: {diff}\")\n"
   ]
  },
  {
   "cell_type": "markdown",
   "id": "1e2b2e85",
   "metadata": {},
   "source": [
    "ההפרש ב-Delivery person ability הוא: 0.28832723644828695\n",
    "ההפרש ב-Wrong order delivered הוא: 0.26429996674426315\n",
    "ההפרש ב-Order placed by mistake הוא: 0.2611406717658795\n",
    "ההפרש ב-Missing item הוא: 0.2584802128367141\n",
    "בעמודות האלה הייתרון של הקינוחים.\n",
    "עצם זה שנמנעות טעויות במשלוח זה הסיבה של הזמנת קינוחים בכמות גבוהה?"
   ]
  },
  {
   "cell_type": "code",
   "execution_count": null,
   "id": "b9e1d67f",
   "metadata": {},
   "outputs": [],
   "source": []
  },
  {
   "cell_type": "code",
   "execution_count": null,
   "id": "5073415e",
   "metadata": {},
   "outputs": [],
   "source": []
  },
  {
   "cell_type": "code",
   "execution_count": null,
   "id": "ae8be026",
   "metadata": {},
   "outputs": [],
   "source": []
  },
  {
   "cell_type": "code",
   "execution_count": null,
   "id": "651292ac",
   "metadata": {},
   "outputs": [],
   "source": []
  },
  {
   "cell_type": "code",
   "execution_count": null,
   "id": "ec8c0030",
   "metadata": {},
   "outputs": [],
   "source": []
  },
  {
   "cell_type": "code",
   "execution_count": null,
   "id": "1a141a4c",
   "metadata": {},
   "outputs": [],
   "source": []
  },
  {
   "cell_type": "code",
   "execution_count": null,
   "id": "27761124",
   "metadata": {},
   "outputs": [],
   "source": []
  },
  {
   "cell_type": "code",
   "execution_count": null,
   "id": "5bb9f309",
   "metadata": {},
   "outputs": [],
   "source": []
  },
  {
   "cell_type": "code",
   "execution_count": null,
   "id": "40689e61",
   "metadata": {},
   "outputs": [],
   "source": []
  },
  {
   "cell_type": "code",
   "execution_count": null,
   "id": "868aa4ad",
   "metadata": {},
   "outputs": [],
   "source": []
  },
  {
   "cell_type": "code",
   "execution_count": null,
   "id": "76e01096",
   "metadata": {},
   "outputs": [],
   "source": []
  },
  {
   "cell_type": "code",
   "execution_count": null,
   "id": "eac0c75e",
   "metadata": {},
   "outputs": [],
   "source": []
  },
  {
   "cell_type": "markdown",
   "id": "39d0f0aa",
   "metadata": {},
   "source": [
    "#הרחבות:#"
   ]
  },
  {
   "cell_type": "code",
   "execution_count": 21,
   "id": "15533b7a",
   "metadata": {},
   "outputs": [
    {
     "ename": "NameError",
     "evalue": "name 'plt' is not defined",
     "output_type": "error",
     "traceback": [
      "\u001b[1;31m---------------------------------------------------------------------------\u001b[0m",
      "\u001b[1;31mNameError\u001b[0m                                 Traceback (most recent call last)",
      "Cell \u001b[1;32mIn[21], line 3\u001b[0m\n\u001b[0;32m      1\u001b[0m \u001b[38;5;66;03m#היטמאפ\u001b[39;00m\n\u001b[0;32m      2\u001b[0m corrs \u001b[38;5;241m=\u001b[39m df\u001b[38;5;241m.\u001b[39mcorr(method\u001b[38;5;241m=\u001b[39m\u001b[38;5;124m'\u001b[39m\u001b[38;5;124mpearson\u001b[39m\u001b[38;5;124m'\u001b[39m, numeric_only\u001b[38;5;241m=\u001b[39m\u001b[38;5;28;01mTrue\u001b[39;00m)\n\u001b[1;32m----> 3\u001b[0m plt\u001b[38;5;241m.\u001b[39mfigure(figsize\u001b[38;5;241m=\u001b[39m(\u001b[38;5;241m30\u001b[39m,\u001b[38;5;241m30\u001b[39m))  \u001b[38;5;66;03m# אפשר לשנות לגודל המתאים\u001b[39;00m\n\u001b[0;32m      4\u001b[0m sns\u001b[38;5;241m.\u001b[39mheatmap(corrs, cmap\u001b[38;5;241m=\u001b[39m\u001b[38;5;124m'\u001b[39m\u001b[38;5;124mcoolwarm\u001b[39m\u001b[38;5;124m'\u001b[39m, center\u001b[38;5;241m=\u001b[39m\u001b[38;5;241m0\u001b[39m, annot\u001b[38;5;241m=\u001b[39m\u001b[38;5;28;01mTrue\u001b[39;00m)\n\u001b[0;32m      5\u001b[0m plt\u001b[38;5;241m.\u001b[39mtitle(\u001b[38;5;124m'\u001b[39m\u001b[38;5;124mCorrelation Matrix\u001b[39m\u001b[38;5;124m'\u001b[39m)\n",
      "\u001b[1;31mNameError\u001b[0m: name 'plt' is not defined"
     ]
    }
   ],
   "source": [
    "#היטמאפ\n",
    "corrs = df.corr(method='pearson', numeric_only=True)\n",
    "plt.figure(figsize=(30,30))  # אפשר לשנות לגודל המתאים\n",
    "sns.heatmap(corrs, cmap='coolwarm', center=0, annot=True)\n",
    "plt.title('Correlation Matrix')\n",
    "plt.tight_layout()\n",
    "plt.show()"
   ]
  },
  {
   "cell_type": "code",
   "execution_count": null,
   "id": "ee67d69a",
   "metadata": {},
   "outputs": [],
   "source": [
    "new_df = df.groupby(['Age'])[['Family size']].mean().reset_index().sort_values(by=\"Age\" , ascending = True)\n",
    "new_df"
   ]
  },
  {
   "cell_type": "code",
   "execution_count": null,
   "id": "a9f8ad9f-18bd-48ef-9fba-d0e9e11785ac",
   "metadata": {},
   "outputs": [],
   "source": [
    "plt.figure(figsize=(4,3))\n",
    "sns.histplot(data=df, x='Age', stat='percent', hue='Output' , multiple = 'fill')   #, multiple = 'fill' )#, 'dodge', 'stack', 'fill')\n",
    "\n",
    "r_value, _ = pearsonr(df[\"Age\"], df['Output'])\n",
    "rounded_r_value = round(r_value, 2)\n",
    "print(str(rounded_r_value)+\" :מקדם מתאם הקורולציה\") "
   ]
  },
  {
   "cell_type": "code",
   "execution_count": null,
   "id": "c2f9fad7",
   "metadata": {},
   "outputs": [],
   "source": []
  },
  {
   "cell_type": "code",
   "execution_count": null,
   "id": "0446c6f0-1ad5-4429-92a7-3c16e2effda2",
   "metadata": {},
   "outputs": [],
   "source": []
  },
  {
   "cell_type": "markdown",
   "id": "379d3be7-677c-4e3e-bb50-355f2f203933",
   "metadata": {
    "tags": []
   },
   "source": [
    "סתם:"
   ]
  },
  {
   "cell_type": "code",
   "execution_count": null,
   "id": "2c4470a2-23c8-4bb4-a1b8-5607d10da66d",
   "metadata": {
    "tags": []
   },
   "outputs": [],
   "source": [
    "age_counts = df['Age'].value_counts().reset_index()\n",
    "age_counts.columns = ['Age', 'Count']\n",
    "age_counts = age_counts.sort_values(by=\"Age\")\n",
    "\n",
    "# Display the result\n",
    "age_counts"
   ]
  },
  {
   "cell_type": "code",
   "execution_count": null,
   "id": "a3c7acde-18ca-4b12-bc10-636155ebe452",
   "metadata": {
    "tags": []
   },
   "outputs": [],
   "source": [
    "df.describe()"
   ]
  },
  {
   "cell_type": "code",
   "execution_count": null,
   "id": "e703a9e6-3da8-4933-84fd-9559e48397fa",
   "metadata": {},
   "outputs": [],
   "source": [
    "#scatter and box\n",
    "columns_to_div = ['Overall Rating', 'Age']\n",
    "\n",
    "\n",
    "\n",
    "# יצירת עמודה חדשה 'div' עם תוצאה של החילוק של כל עמודה ברשימה בעמודת Age\n",
    "for column in columns_to_div:\n",
    "    df[f'div_{column}'] =  df['Age']  / df[\"Overall Rating\"] \n",
    "\n",
    "div_df = df[[f'div_{column}']]\n",
    "\n",
    "div_df"
   ]
  },
  {
   "cell_type": "code",
   "execution_count": null,
   "id": "e83c6d9e-0f69-4fea-bd23-3c787f1f6050",
   "metadata": {
    "tags": []
   },
   "outputs": [],
   "source": [
    "ig, axes = plt.subplots(figsize=(12, 4), ncols=2)\n",
    "sns.regplot(x = \"Good Tracking system\", y = \"Good Quantity\" , data= df , ax=axes[0])\n",
    "sns.lineplot(x=\"Good Quantity\", y=\"Good Quantity\",   estimator = 'mean',   data=df,errorbar=None, ax=axes[1])\n",
    "plt.show()"
   ]
  },
  {
   "cell_type": "code",
   "execution_count": null,
   "id": "95e4f729-108c-47db-9e91-7b20b737cec7",
   "metadata": {
    "tags": []
   },
   "outputs": [],
   "source": [
    "numeric_columns = df.select_dtypes(include='number')\n",
    "\n",
    "# Create a new DataFrame with only numeric values\n",
    "numeric_df = df[numeric_columns.columns]\n",
    "\n",
    "correlation_matrix = numeric_df.corr(numeric_only = True, method = 'spearman' ).round(2)\n",
    "subset_correlation_matrix = correlation_matrix['Age'].transpose()\n",
    "plt.figure(figsize=(17,2))\n",
    "subset_correlation_matrix = numeric_df.corr()\n",
    "sns.heatmap(data=subset_correlation_matrix,cmap='coolwarm', annot=True, xticklabels=numeric_df.columns.tolist())\n",
    "plt.show()"
   ]
  },
  {
   "cell_type": "code",
   "execution_count": null,
   "id": "2c5f2bf0-fe8e-4684-8c1a-5a9670bb53de",
   "metadata": {
    "tags": []
   },
   "outputs": [],
   "source": [
    "corrs = df.corr(method='pearson', numeric_only=True)\n",
    "plt.figure(figsize=(5,3))  # אפשר לשנות לגודל המתאים\n",
    "sns.heatmap(corrs, cmap='coolwarm', center=0, annot=True)\n",
    "plt.title('Correlation Matrix')\n",
    "plt.tight_layout()\n",
    "plt.show()"
   ]
  },
  {
   "cell_type": "code",
   "execution_count": null,
   "id": "8afa1943",
   "metadata": {},
   "outputs": [],
   "source": [
    "plt.figure(figsize=(4,3))  #figure size\n",
    "sns.scatterplot(data = df[['Overall Rating']])"
   ]
  },
  {
   "cell_type": "code",
   "execution_count": null,
   "id": "8e93c20c-c37b-48c5-9f92-e315314e4d00",
   "metadata": {
    "tags": []
   },
   "outputs": [],
   "source": [
    "med_df = df.groupby('Age')[['Long delivery time']].count()  #evry year the sum of people impact\n",
    "med_df"
   ]
  },
  {
   "cell_type": "code",
   "execution_count": null,
   "id": "293073b1-9162-4f3e-83dd-7cb61646ee2a",
   "metadata": {
    "tags": []
   },
   "outputs": [],
   "source": [
    "men_df = df.groupby('Age')[[\"Over All Satisfaction\"]].mean().head(10)    #evry year the sum of people impact\n",
    "top_5 = men_df.sort_values(by=\"Over All Satisfaction\", ascending=False).head(10)\n",
    "top_5"
   ]
  },
  {
   "cell_type": "code",
   "execution_count": null,
   "id": "66291091-efb2-40e4-ba27-60600b1700d3",
   "metadata": {
    "tags": []
   },
   "outputs": [],
   "source": [
    "age_diff = final_df.set_index('Age').diff().dropna()\n",
    "\n",
    "# Unpivot the DataFrame to have one row per age difference and category\n",
    "melted_diff = age_diff.reset_index().melt(id_vars='Age', var_name='Category', value_name='Difference')\n",
    "\n",
    "# Sort by the absolute difference and take the top 34 changes\n",
    "top_34_changes = melted_diff.iloc[melted_diff['Difference'].abs().argsort()[-34:]]\n",
    "\n",
    "# Display the result\n",
    "top_34_changes"
   ]
  }
 ],
 "metadata": {
  "kernelspec": {
   "display_name": "Python 3 (ipykernel)",
   "language": "python",
   "name": "python3"
  },
  "language_info": {
   "codemirror_mode": {
    "name": "ipython",
    "version": 3
   },
   "file_extension": ".py",
   "mimetype": "text/x-python",
   "name": "python",
   "nbconvert_exporter": "python",
   "pygments_lexer": "ipython3",
   "version": "3.11.5"
  }
 },
 "nbformat": 4,
 "nbformat_minor": 5
}
